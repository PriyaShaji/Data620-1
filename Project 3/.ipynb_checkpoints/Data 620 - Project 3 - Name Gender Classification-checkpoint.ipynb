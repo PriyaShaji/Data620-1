{
 "cells": [
  {
   "cell_type": "markdown",
   "metadata": {},
   "source": [
    "# Data 620 - Project 3 | Building the best name gender classification\n",
    "\n",
    "Using any of the three classifiers described in Chapter 6 of Natural Language Processing with Python, and any features you can think of, build the best name gender classifier you can.\n",
    "\n",
    "Begin by splitting the Names Corpus into three subsets: 500 words for the test set, 500 words for the dev-test set and the remaining 6900 words for the training set. Then, starting with the example name gender classifier, make incremental improvements. Use the dev-test set to check your progress. Once you are satisfied with your classifier, check its final performance on the test set. \n",
    "\n",
    "How does the performance on the test set compare to the performacne on the dev-test set? Is this what you'd expect?\n",
    "\n",
    "Group Members: Abdellah Ait Elmouden, Habib Khan, Priya Shaji, Vijaya Cherukuri"
   ]
  },
  {
   "cell_type": "code",
   "execution_count": 38,
   "metadata": {},
   "outputs": [
    {
     "name": "stderr",
     "output_type": "stream",
     "text": [
      "[nltk_data] Downloading package names to /home/taha/nltk_data...\n",
      "[nltk_data]   Package names is already up-to-date!\n"
     ]
    },
    {
     "data": {
      "text/plain": [
       "True"
      ]
     },
     "execution_count": 38,
     "metadata": {},
     "output_type": "execute_result"
    }
   ],
   "source": [
    "# loading libraries\n",
    "import nltk\n",
    "from nltk.corpus import names\n",
    "from nltk.classify import apply_features\n",
    "import pandas as pd\n",
    "import random\n",
    "import re # Regular expression\n",
    "\n",
    "import matplotlib.pyplot as plt\n",
    "\n",
    "# download names\n",
    "nltk.download('names')"
   ]
  },
  {
   "cell_type": "markdown",
   "metadata": {},
   "source": [
    "# Getting the Corpus"
   ]
  },
  {
   "cell_type": "code",
   "execution_count": 5,
   "metadata": {},
   "outputs": [],
   "source": [
    "# Getting the data and shuffling them\n",
    "names = ([(name, 'male') for name in names.words('male.txt')] + \n",
    "[(name, 'female') for name in names.words('female.txt')])\n"
   ]
  },
  {
   "cell_type": "code",
   "execution_count": 10,
   "metadata": {},
   "outputs": [],
   "source": [
    "# Reshuffle the corpus\n",
    "random.shuffle(names)"
   ]
  },
  {
   "cell_type": "code",
   "execution_count": 11,
   "metadata": {},
   "outputs": [
    {
     "data": {
      "text/plain": [
       "[('Agnes', 'female'),\n",
       " ('Terese', 'female'),\n",
       " ('Britta', 'female'),\n",
       " ('Mable', 'female'),\n",
       " ('Melisa', 'female'),\n",
       " ('Mercedes', 'female'),\n",
       " ('Terra', 'female'),\n",
       " ('Stephi', 'female'),\n",
       " ('Tyrus', 'male'),\n",
       " ('Alexander', 'male'),\n",
       " ('Max', 'female'),\n",
       " ('Bret', 'male'),\n",
       " ('Essie', 'female'),\n",
       " ('Chaunce', 'male')]"
      ]
     },
     "execution_count": 11,
     "metadata": {},
     "output_type": "execute_result"
    }
   ],
   "source": [
    "# Random names with gender\n",
    "names[1:15]"
   ]
  },
  {
   "cell_type": "code",
   "execution_count": 12,
   "metadata": {},
   "outputs": [
    {
     "data": {
      "text/plain": [
       "7944"
      ]
     },
     "execution_count": 12,
     "metadata": {},
     "output_type": "execute_result"
    }
   ],
   "source": [
    "# checking the length\n",
    "len(names)"
   ]
  },
  {
   "cell_type": "markdown",
   "metadata": {},
   "source": [
    "## Splitting the Data\n",
    "\n",
    "In order to develop out model, we need to split our data into three different subsets to be used for different purposes. There are 7944 names in the entire dataset. 7444 of the entries will be used for development purposes (6900 for training and 500 for testing) and remaining 500 will be used for testing of a final model.\n",
    "\n",
    "\n",
    "**Development set:**\n",
    "\n",
    "- 6900 names for the training (train_names)\n",
    "- 500 names for the testing (devtest_names)\n",
    "\n",
    "**Test set:**\n",
    "\n",
    "- 500 names for the testing (test_names)\n"
   ]
  },
  {
   "cell_type": "code",
   "execution_count": 21,
   "metadata": {},
   "outputs": [],
   "source": [
    "test_names, devtest_names, train_names = names[0:500], names[500:1000], names[1000:]"
   ]
  },
  {
   "cell_type": "code",
   "execution_count": 22,
   "metadata": {},
   "outputs": [
    {
     "name": "stdout",
     "output_type": "stream",
     "text": [
      "Training Set = 6944\n",
      "Dev-Test Set = 500\n",
      "Test Set = 500\n"
     ]
    }
   ],
   "source": [
    "# Confirm the size of the three subsets\n",
    "print(\"Training Set = {}\".format(len(train_names)))\n",
    "print(\"Dev-Test Set = {}\".format(len(devtest_names)))\n",
    "print(\"Test Set = {}\".format(len(test_names)))"
   ]
  },
  {
   "cell_type": "markdown",
   "metadata": {},
   "source": [
    "### Data Exploration \n",
    "\n",
    "In order to determine if there are obvious indicators of gender, we explore some features of the names. We can see the distribution of females and males in our training set as follows:"
   ]
  },
  {
   "cell_type": "code",
   "execution_count": 25,
   "metadata": {},
   "outputs": [
    {
     "data": {
      "text/plain": [
       "FreqDist({'female': 4368, 'male': 2576})"
      ]
     },
     "execution_count": 25,
     "metadata": {},
     "output_type": "execute_result"
    }
   ],
   "source": [
    "train_set_gold = [g  for (n, g) in train_names]\n",
    "nltk.FreqDist(train_set_gold)"
   ]
  },
  {
   "cell_type": "markdown",
   "metadata": {},
   "source": [
    "#### First Letter Indicator"
   ]
  },
  {
   "cell_type": "code",
   "execution_count": 27,
   "metadata": {},
   "outputs": [
    {
     "data": {
      "text/plain": [
       "nltk.probability.ConditionalFreqDist"
      ]
     },
     "execution_count": 27,
     "metadata": {},
     "output_type": "execute_result"
    }
   ],
   "source": [
    "# firstletter\n",
    "cfd_firstletter = nltk.ConditionalFreqDist(                       #count the frequency of words \n",
    "    (gender, name[0].lower()) for name, gender in train_names)"
   ]
  },
  {
   "cell_type": "code",
   "execution_count": 30,
   "metadata": {},
   "outputs": [],
   "source": [
    "# Normalize for male and female data\n",
    "fem_count = float(len([gender for name, gender in train_names if gender == 'female']))\n",
    "male_count = float(len([gender for name, gender in train_names if gender == 'male']))\n",
    "\n",
    "for i in cfd_firstletter.items():\n",
    "    if i[0] == 'male':\n",
    "        for key in i[1].keys():\n",
    "            i[1][key] = i[1][key]/male_count\n",
    "    else:\n",
    "        for key in i[1].keys():\n",
    "            i[1][key] = i[1][key]/fem_count"
   ]
  },
  {
   "cell_type": "code",
   "execution_count": 33,
   "metadata": {},
   "outputs": [
    {
     "data": {
      "image/png": "[encoded data removed]",
      "text/plain": [
       "<Figure size 720x216 with 1 Axes>"
      ]
     },
     "metadata": {
      "needs_background": "light"
     },
     "output_type": "display_data"
    },
    {
     "data": {
      "text/plain": [
       "<matplotlib.axes._subplots.AxesSubplot at 0x7efc0a137ed0>"
      ]
     },
     "execution_count": 33,
     "metadata": {},
     "output_type": "execute_result"
    }
   ],
   "source": [
    "# define title\n",
    "titleName='firstletter'\n",
    "\n",
    "# set figure size\n",
    "plt.figure(figsize=(10,3))\n",
    "# add title\n",
    "plt.title(titleName)\n",
    "# add conditional frequency distribution\n",
    "cfd_firstletter.plot()"
   ]
  },
  {
   "cell_type": "markdown",
   "metadata": {},
   "source": [
    "One of the good indicator of gender would be the first letter. The above plot shows the frequency of first letters in regards to gender. From the plot, we can observe that more female names begin with 'a', 'c', and 'm'"
   ]
  },
  {
   "cell_type": "markdown",
   "metadata": {},
   "source": [
    "#### Last Letter Indicator"
   ]
  },
  {
   "cell_type": "code",
   "execution_count": 34,
   "metadata": {},
   "outputs": [
    {
     "data": {
      "image/png": "[encoded data removed]",
      "text/plain": [
       "<Figure size 720x216 with 1 Axes>"
      ]
     },
     "metadata": {
      "needs_background": "light"
     },
     "output_type": "display_data"
    },
    {
     "data": {
      "text/plain": [
       "<matplotlib.axes._subplots.AxesSubplot at 0x7efc0729d210>"
      ]
     },
     "execution_count": 34,
     "metadata": {},
     "output_type": "execute_result"
    }
   ],
   "source": [
    "# lastletter\n",
    "cfd_lastletter = nltk.ConditionalFreqDist(\n",
    "    (gender, name[-1].lower()) for name, gender in train_names)\n",
    "\n",
    "for i in cfd_lastletter.items():\n",
    "    if i[0] == 'male':\n",
    "        for key in i[1].keys():\n",
    "            i[1][key] = i[1][key]/male_count\n",
    "    else:\n",
    "        for key in i[1].keys():\n",
    "            i[1][key] = i[1][key]/fem_count\n",
    "\n",
    "            \n",
    "# define title\n",
    "titleName='LastLetter'\n",
    "\n",
    "# set figure size\n",
    "plt.figure(figsize=(10,3))\n",
    "# add title\n",
    "plt.title(titleName)\n",
    "# add conditional frequency distribution\n",
    "cfd_lastletter.plot()"
   ]
  },
  {
   "cell_type": "markdown",
   "metadata": {},
   "source": [
    "Names ending with letters 'a' and 'e' appear to be a good indicator of a female."
   ]
  },
  {
   "cell_type": "markdown",
   "metadata": {},
   "source": [
    "#### Length as an Indicator "
   ]
  },
  {
   "cell_type": "code",
   "execution_count": 36,
   "metadata": {},
   "outputs": [
    {
     "data": {
      "image/png": "[encoded data removed]",
      "text/plain": [
       "<Figure size 720x216 with 1 Axes>"
      ]
     },
     "metadata": {
      "needs_background": "light"
     },
     "output_type": "display_data"
    },
    {
     "data": {
      "text/plain": [
       "<matplotlib.axes._subplots.AxesSubplot at 0x7efc07de1510>"
      ]
     },
     "execution_count": 36,
     "metadata": {},
     "output_type": "execute_result"
    }
   ],
   "source": [
    "# length\n",
    "cfd_length = nltk.ConditionalFreqDist(\n",
    "    (gender, len(name)) for name, gender in train_names)\n",
    "\n",
    "for i in cfd_length.items():\n",
    "    if i[0] == 'male':\n",
    "        for key in i[1].keys():\n",
    "            i[1][key] = i[1][key]/male_count\n",
    "    else:\n",
    "        for key in i[1].keys():\n",
    "            i[1][key] = i[1][key]/fem_count\n",
    "\n",
    "# define title\n",
    "titleName='length'\n",
    "\n",
    "# set figure size\n",
    "plt.figure(figsize=(10,3))\n",
    "# add title\n",
    "plt.title(titleName)\n",
    "# add conditional frequency distribution\n",
    "cfd_length.plot()"
   ]
  },
  {
   "cell_type": "markdown",
   "metadata": {},
   "source": [
    "The length does not appear to be a great indicator of gender on its own."
   ]
  },
  {
   "cell_type": "markdown",
   "metadata": {},
   "source": [
    "#### Vowel Counts Indicator"
   ]
  },
  {
   "cell_type": "code",
   "execution_count": 39,
   "metadata": {},
   "outputs": [
    {
     "data": {
      "image/png": "[encoded data removed]",
      "text/plain": [
       "<Figure size 720x216 with 1 Axes>"
      ]
     },
     "metadata": {
      "needs_background": "light"
     },
     "output_type": "display_data"
    },
    {
     "data": {
      "text/plain": [
       "<matplotlib.axes._subplots.AxesSubplot at 0x7efc0723a250>"
      ]
     },
     "execution_count": 39,
     "metadata": {},
     "output_type": "execute_result"
    }
   ],
   "source": [
    "# Vowel Counts\n",
    "cfd_vowels = nltk.ConditionalFreqDist(\n",
    "    (gender, len(re.sub(r'[^aeiou]', '', name.lower()))) for name, gender in train_names)\n",
    "\n",
    "for i in cfd_vowels.items():\n",
    "    if i[0] == 'male':\n",
    "        for key in i[1].keys():\n",
    "            i[1][key] = i[1][key]/male_count\n",
    "    else:\n",
    "        for key in i[1].keys():\n",
    "            i[1][key] = i[1][key]/fem_count\n",
    "\n",
    "# define title\n",
    "titleName='length'\n",
    "\n",
    "# set figure size\n",
    "plt.figure(figsize=(10,3))\n",
    "# add title\n",
    "plt.title(titleName)\n",
    "# add conditional frequency distribution\n",
    "cfd_vowels.plot()"
   ]
  },
  {
   "cell_type": "markdown",
   "metadata": {},
   "source": [
    "The females tend to have more vowels in their name over men."
   ]
  },
  {
   "cell_type": "markdown",
   "metadata": {},
   "source": [
    "# Analysis"
   ]
  },
  {
   "cell_type": "markdown",
   "metadata": {},
   "source": [
    "For this project, we will start working on the functions taken from Chapter 6 to test the accuracy of gender classification based on names. There are 2 functions which will be tested first and then finally modified function will be created that will be tested on test data to see final results. \n",
    "\n",
    "Before going forward, first we will create an accuracy function that will calculate the accuracy of each function to see which model performed better in terms of gender name classification."
   ]
  },
  {
   "cell_type": "code",
   "execution_count": 13,
   "metadata": {},
   "outputs": [],
   "source": [
    "# Defining accuracy function - \n",
    "\n",
    "def accuracy(runs, function):\n",
    "    accuracy_df = {\n",
    "        \"classifier\": [],\n",
    "        \"train_accuracy\": [],\n",
    "        \"test_accuracy\": [],\n",
    "        \"devtest_accuracy\": [],\n",
    "        \"devtest_errors\": []\n",
    "    }\n",
    "    for i in range(runs):\n",
    "        random.shuffle(names)\n",
    "        accuracy_train = names[1000:]\n",
    "        accuracy_devtest = names[500:1000]\n",
    "        accuracy_test = names[:500]\n",
    "        \n",
    "        accuracy_trainset = [(function(n), g) for (n,g) in accuracy_train]\n",
    "        accuracy_devtestset = [(function(n), g) for (n,g) in accuracy_devtest]\n",
    "        accuracy_testset = [(function(n), g) for (n,g) in accuracy_test]\n",
    "        \n",
    "        accuracy_classifier = nltk.NaiveBayesClassifier.train(accuracy_trainset)\n",
    "        accuracy_df[\"classifier\"].append(accuracy_classifier)\n",
    "        accuracy_df[\"train_accuracy\"].append(nltk.classify.accuracy(accuracy_classifier, accuracy_trainset))\n",
    "        accuracy_df[\"test_accuracy\"].append(nltk.classify.accuracy(accuracy_classifier, accuracy_testset))\n",
    "        accuracy_df[\"devtest_accuracy\"].append(nltk.classify.accuracy(accuracy_classifier, accuracy_devtestset))\n",
    "        \n",
    "        accuracy_errors = []\n",
    "        for (name, tag) in accuracy_devtest:\n",
    "            accuracy_guess = accuracy_classifier.classify(function(name))\n",
    "            if accuracy_guess != tag:\n",
    "                accuracy_errors.append( (tag, accuracy_guess, name) )\n",
    "                \n",
    "        accuracy_df[\"devtest_errors\"].append(accuracy_errors)\n",
    "        \n",
    "    accuracy_df = pd.DataFrame.from_dict(accuracy_df)\n",
    "    return(accuracy_df)"
   ]
  },
  {
   "cell_type": "code",
   "execution_count": 14,
   "metadata": {},
   "outputs": [
    {
     "data": {
      "text/plain": [
       "{'last_letter': 's'}"
      ]
     },
     "execution_count": 14,
     "metadata": {},
     "output_type": "execute_result"
    }
   ],
   "source": [
    "# Creating function 1\n",
    "def gender_feature1(name):\n",
    "    return {'last_letter': name[-1]}\n",
    "\n",
    "gender_feature1(\"Mr. Sherlock Holmes\")"
   ]
  },
  {
   "cell_type": "code",
   "execution_count": 15,
   "metadata": {},
   "outputs": [
    {
     "data": {
      "text/plain": [
       "{'firstletter': 'm',\n",
       " 'lastletter': 's',\n",
       " 'suffix2': 'es',\n",
       " 'preffix2': 'mr',\n",
       " 'count(a)': 0,\n",
       " 'has(a)': False,\n",
       " 'count(e)': 2,\n",
       " 'has(e)': True,\n",
       " 'count(i)': 0,\n",
       " 'has(i)': False,\n",
       " 'count(o)': 2,\n",
       " 'has(o)': True,\n",
       " 'count(u)': 0,\n",
       " 'has(u)': False}"
      ]
     },
     "execution_count": 15,
     "metadata": {},
     "output_type": "execute_result"
    }
   ],
   "source": [
    "# Creating function 2 - changing into lower\n",
    "def gender_features2(name):\n",
    "    features={}\n",
    "    features[\"firstletter\"]= name[0].lower()\n",
    "    features[\"lastletter\"] = name[-1].lower()\n",
    "    features[\"suffix2\"] =  name[-2:].lower()\n",
    "    features[\"preffix2\"] = name[:2].lower()\n",
    "    for letter in 'aeiou':\n",
    "        features[\"count(%s)\" % letter] = name.lower().count(letter)\n",
    "        features[\"has(%s)\" % letter] = (letter in name.lower())\n",
    "    return features\n",
    "gender_features2(\"Mr. Sherlock Holmes\")"
   ]
  },
  {
   "cell_type": "code",
   "execution_count": 16,
   "metadata": {},
   "outputs": [],
   "source": [
    "# Creating function 3 - \n",
    "\n",
    "def gender_features3(name):\n",
    "    features={}\n",
    "    features[\"firstletter\"]= name[0].lower()\n",
    "    features[\"lastletter\"] = name[-1].lower()\n",
    "    \n",
    "    # adding parameters if length of name is more than 4 for suffix and preffix\n",
    "    features[\"suffix2\"] =  name[-3:].lower() if len(name) > 4 else name[-2:].lower()\n",
    "    features[\"preffix2\"] = name[:3].lower() if len(name) > 4 else name[:2].lower()\n",
    "    for letter in 'aeiou':\n",
    "        features[\"count(%s)\" % letter] = name.lower().count(letter)\n",
    "        features[\"has(%s)\" % letter] = (letter in name.lower())\n",
    "    return features"
   ]
  },
  {
   "cell_type": "code",
   "execution_count": 17,
   "metadata": {},
   "outputs": [
    {
     "data": {
      "text/plain": [
       "{'firstletter': 's',\n",
       " 'lastletter': 'k',\n",
       " 'suffix2': 'ock',\n",
       " 'preffix2': 'she',\n",
       " 'count(a)': 0,\n",
       " 'has(a)': False,\n",
       " 'count(e)': 1,\n",
       " 'has(e)': True,\n",
       " 'count(i)': 0,\n",
       " 'has(i)': False,\n",
       " 'count(o)': 1,\n",
       " 'has(o)': True,\n",
       " 'count(u)': 0,\n",
       " 'has(u)': False}"
      ]
     },
     "execution_count": 17,
     "metadata": {},
     "output_type": "execute_result"
    }
   ],
   "source": [
    "gender_features3(\"Sherlock\")"
   ]
  },
  {
   "cell_type": "code",
   "execution_count": 18,
   "metadata": {},
   "outputs": [
    {
     "data": {
      "text/html": [
       "<div>\n",
       "<style scoped>\n",
       "    .dataframe tbody tr th:only-of-type {\n",
       "        vertical-align: middle;\n",
       "    }\n",
       "\n",
       "    .dataframe tbody tr th {\n",
       "        vertical-align: top;\n",
       "    }\n",
       "\n",
       "    .dataframe thead th {\n",
       "        text-align: right;\n",
       "    }\n",
       "</style>\n",
       "<table border=\"1\" class=\"dataframe\">\n",
       "  <thead>\n",
       "    <tr style=\"text-align: right;\">\n",
       "      <th></th>\n",
       "      <th>train_accuracy</th>\n",
       "      <th>test_accuracy</th>\n",
       "      <th>devtest_accuracy</th>\n",
       "    </tr>\n",
       "  </thead>\n",
       "  <tbody>\n",
       "    <tr>\n",
       "      <th>count</th>\n",
       "      <td>100.000000</td>\n",
       "      <td>100.000000</td>\n",
       "      <td>100.000000</td>\n",
       "    </tr>\n",
       "    <tr>\n",
       "      <th>mean</th>\n",
       "      <td>0.762929</td>\n",
       "      <td>0.760340</td>\n",
       "      <td>0.760780</td>\n",
       "    </tr>\n",
       "    <tr>\n",
       "      <th>std</th>\n",
       "      <td>0.002135</td>\n",
       "      <td>0.020674</td>\n",
       "      <td>0.017424</td>\n",
       "    </tr>\n",
       "    <tr>\n",
       "      <th>min</th>\n",
       "      <td>0.757344</td>\n",
       "      <td>0.696000</td>\n",
       "      <td>0.728000</td>\n",
       "    </tr>\n",
       "    <tr>\n",
       "      <th>25%</th>\n",
       "      <td>0.761521</td>\n",
       "      <td>0.750000</td>\n",
       "      <td>0.750000</td>\n",
       "    </tr>\n",
       "    <tr>\n",
       "      <th>50%</th>\n",
       "      <td>0.762817</td>\n",
       "      <td>0.760000</td>\n",
       "      <td>0.761000</td>\n",
       "    </tr>\n",
       "    <tr>\n",
       "      <th>75%</th>\n",
       "      <td>0.764545</td>\n",
       "      <td>0.772000</td>\n",
       "      <td>0.772000</td>\n",
       "    </tr>\n",
       "    <tr>\n",
       "      <th>max</th>\n",
       "      <td>0.768433</td>\n",
       "      <td>0.816000</td>\n",
       "      <td>0.802000</td>\n",
       "    </tr>\n",
       "  </tbody>\n",
       "</table>\n",
       "</div>"
      ],
      "text/plain": [
       "       train_accuracy  test_accuracy  devtest_accuracy\n",
       "count      100.000000     100.000000        100.000000\n",
       "mean         0.762929       0.760340          0.760780\n",
       "std          0.002135       0.020674          0.017424\n",
       "min          0.757344       0.696000          0.728000\n",
       "25%          0.761521       0.750000          0.750000\n",
       "50%          0.762817       0.760000          0.761000\n",
       "75%          0.764545       0.772000          0.772000\n",
       "max          0.768433       0.816000          0.802000"
      ]
     },
     "execution_count": 18,
     "metadata": {},
     "output_type": "execute_result"
    }
   ],
   "source": [
    "# Testing function 1\n",
    "test_f1 = accuracy(100, gender_feature1)\n",
    "test_f1.describe()"
   ]
  },
  {
   "cell_type": "markdown",
   "metadata": {},
   "source": [
    "function 1 has accuracy of 0.756300 on test set which was performed through checking the last letter of the names. According to the text in chapter 6, there are patterns in the last letter of the gender which was initially helpful to identify the genders with 75.36% accuracy on the test dataset. Names ending in a, e and i are likely to be female while names ending in k, o, r, s and t are likely to be male. The accuracy did not change significantly throughout the train, devtest and test datasets."
   ]
  },
  {
   "cell_type": "code",
   "execution_count": 19,
   "metadata": {},
   "outputs": [
    {
     "data": {
      "text/html": [
       "<div>\n",
       "<style scoped>\n",
       "    .dataframe tbody tr th:only-of-type {\n",
       "        vertical-align: middle;\n",
       "    }\n",
       "\n",
       "    .dataframe tbody tr th {\n",
       "        vertical-align: top;\n",
       "    }\n",
       "\n",
       "    .dataframe thead th {\n",
       "        text-align: right;\n",
       "    }\n",
       "</style>\n",
       "<table border=\"1\" class=\"dataframe\">\n",
       "  <thead>\n",
       "    <tr style=\"text-align: right;\">\n",
       "      <th></th>\n",
       "      <th>train_accuracy</th>\n",
       "      <th>test_accuracy</th>\n",
       "      <th>devtest_accuracy</th>\n",
       "    </tr>\n",
       "  </thead>\n",
       "  <tbody>\n",
       "    <tr>\n",
       "      <th>count</th>\n",
       "      <td>100.000000</td>\n",
       "      <td>100.000000</td>\n",
       "      <td>100.000000</td>\n",
       "    </tr>\n",
       "    <tr>\n",
       "      <th>mean</th>\n",
       "      <td>0.808309</td>\n",
       "      <td>0.797380</td>\n",
       "      <td>0.798600</td>\n",
       "    </tr>\n",
       "    <tr>\n",
       "      <th>std</th>\n",
       "      <td>0.001935</td>\n",
       "      <td>0.016841</td>\n",
       "      <td>0.018443</td>\n",
       "    </tr>\n",
       "    <tr>\n",
       "      <th>min</th>\n",
       "      <td>0.802419</td>\n",
       "      <td>0.752000</td>\n",
       "      <td>0.734000</td>\n",
       "    </tr>\n",
       "    <tr>\n",
       "      <th>25%</th>\n",
       "      <td>0.807280</td>\n",
       "      <td>0.788000</td>\n",
       "      <td>0.790000</td>\n",
       "    </tr>\n",
       "    <tr>\n",
       "      <th>50%</th>\n",
       "      <td>0.808324</td>\n",
       "      <td>0.797000</td>\n",
       "      <td>0.799000</td>\n",
       "    </tr>\n",
       "    <tr>\n",
       "      <th>75%</th>\n",
       "      <td>0.809404</td>\n",
       "      <td>0.810000</td>\n",
       "      <td>0.812000</td>\n",
       "    </tr>\n",
       "    <tr>\n",
       "      <th>max</th>\n",
       "      <td>0.813508</td>\n",
       "      <td>0.838000</td>\n",
       "      <td>0.848000</td>\n",
       "    </tr>\n",
       "  </tbody>\n",
       "</table>\n",
       "</div>"
      ],
      "text/plain": [
       "       train_accuracy  test_accuracy  devtest_accuracy\n",
       "count      100.000000     100.000000        100.000000\n",
       "mean         0.808309       0.797380          0.798600\n",
       "std          0.001935       0.016841          0.018443\n",
       "min          0.802419       0.752000          0.734000\n",
       "25%          0.807280       0.788000          0.790000\n",
       "50%          0.808324       0.797000          0.799000\n",
       "75%          0.809404       0.810000          0.812000\n",
       "max          0.813508       0.838000          0.848000"
      ]
     },
     "execution_count": 19,
     "metadata": {},
     "output_type": "execute_result"
    }
   ],
   "source": [
    "# Testing function 2\n",
    "test_f2 = accuracy(100, gender_features2)\n",
    "test_f2.describe()"
   ]
  },
  {
   "cell_type": "markdown",
   "metadata": {},
   "source": [
    "In function 2, more features were added to improve the accuracy of name gender classifications other than the last letter that was discussed previously. In this function, first letter of first name has also been added to see if there is any trend among the genders. Also, number of vowels has also been seen to identify any pattern for male and female. Function 2 improved the accuracy by almost 4 - 5 % in train, test and devtest datasets overall. There is no significant difference in the accuracies among the train, test and devtest datasets which means prediction was almost 80% times accurate to classify the name gender. "
   ]
  },
  {
   "cell_type": "code",
   "execution_count": 20,
   "metadata": {},
   "outputs": [
    {
     "data": {
      "text/html": [
       "<div>\n",
       "<style scoped>\n",
       "    .dataframe tbody tr th:only-of-type {\n",
       "        vertical-align: middle;\n",
       "    }\n",
       "\n",
       "    .dataframe tbody tr th {\n",
       "        vertical-align: top;\n",
       "    }\n",
       "\n",
       "    .dataframe thead th {\n",
       "        text-align: right;\n",
       "    }\n",
       "</style>\n",
       "<table border=\"1\" class=\"dataframe\">\n",
       "  <thead>\n",
       "    <tr style=\"text-align: right;\">\n",
       "      <th></th>\n",
       "      <th>train_accuracy</th>\n",
       "      <th>test_accuracy</th>\n",
       "      <th>devtest_accuracy</th>\n",
       "    </tr>\n",
       "  </thead>\n",
       "  <tbody>\n",
       "    <tr>\n",
       "      <th>count</th>\n",
       "      <td>100.000000</td>\n",
       "      <td>100.000000</td>\n",
       "      <td>100.000000</td>\n",
       "    </tr>\n",
       "    <tr>\n",
       "      <th>mean</th>\n",
       "      <td>0.870593</td>\n",
       "      <td>0.826560</td>\n",
       "      <td>0.827400</td>\n",
       "    </tr>\n",
       "    <tr>\n",
       "      <th>std</th>\n",
       "      <td>0.001710</td>\n",
       "      <td>0.017331</td>\n",
       "      <td>0.015132</td>\n",
       "    </tr>\n",
       "    <tr>\n",
       "      <th>min</th>\n",
       "      <td>0.866215</td>\n",
       "      <td>0.786000</td>\n",
       "      <td>0.788000</td>\n",
       "    </tr>\n",
       "    <tr>\n",
       "      <th>25%</th>\n",
       "      <td>0.869240</td>\n",
       "      <td>0.815500</td>\n",
       "      <td>0.817500</td>\n",
       "    </tr>\n",
       "    <tr>\n",
       "      <th>50%</th>\n",
       "      <td>0.870680</td>\n",
       "      <td>0.829000</td>\n",
       "      <td>0.829000</td>\n",
       "    </tr>\n",
       "    <tr>\n",
       "      <th>75%</th>\n",
       "      <td>0.872120</td>\n",
       "      <td>0.838000</td>\n",
       "      <td>0.836500</td>\n",
       "    </tr>\n",
       "    <tr>\n",
       "      <th>max</th>\n",
       "      <td>0.874424</td>\n",
       "      <td>0.868000</td>\n",
       "      <td>0.868000</td>\n",
       "    </tr>\n",
       "  </tbody>\n",
       "</table>\n",
       "</div>"
      ],
      "text/plain": [
       "       train_accuracy  test_accuracy  devtest_accuracy\n",
       "count      100.000000     100.000000        100.000000\n",
       "mean         0.870593       0.826560          0.827400\n",
       "std          0.001710       0.017331          0.015132\n",
       "min          0.866215       0.786000          0.788000\n",
       "25%          0.869240       0.815500          0.817500\n",
       "50%          0.870680       0.829000          0.829000\n",
       "75%          0.872120       0.838000          0.836500\n",
       "max          0.874424       0.868000          0.868000"
      ]
     },
     "execution_count": 20,
     "metadata": {},
     "output_type": "execute_result"
    }
   ],
   "source": [
    "# Testing function 3\n",
    "test_f3 = accuracy(100, gender_features3)\n",
    "test_f3.describe()"
   ]
  },
  {
   "cell_type": "markdown",
   "metadata": {},
   "source": [
    "Function 3 was modification of previous functions 2. In this function, we added another criteria for suffix and preffix i.e. if the length of name is more than 4 then the function will look up for first 3 and last 3 letters to see the pattern for gender classification out of names. It tremendously improved the accuracy in train dataset which is 87.07% but the accuracy dropped down to around 82.8% on test and devtest datasets but still it is improved version than the previous functions. "
   ]
  },
  {
   "cell_type": "markdown",
   "metadata": {},
   "source": [
    "# References\n",
    "\n",
    "https://subscription.packtpub.com/book/big_data_and_business_intelligence/9781789139495/2/ch02lvl1sec17/training-a-sentiment-classifier-for-movie-reviews\n",
    "\n",
    "https://www.nltk.org/book/ch06.html"
   ]
  }
 ],
 "metadata": {
  "kernelspec": {
   "display_name": "Python 3",
   "language": "python",
   "name": "python3"
  },
  "language_info": {
   "codemirror_mode": {
    "name": "ipython",
    "version": 3
   },
   "file_extension": ".py",
   "mimetype": "text/x-python",
   "name": "python",
   "nbconvert_exporter": "python",
   "pygments_lexer": "ipython3",
   "version": "3.7.6"
  }
 },
 "nbformat": 4,
 "nbformat_minor": 2
}
