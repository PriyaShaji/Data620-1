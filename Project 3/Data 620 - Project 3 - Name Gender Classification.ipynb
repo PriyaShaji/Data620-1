{
 "cells": [
  {
   "cell_type": "markdown",
   "metadata": {},
   "source": [
    "# Data 620 - Project 3 | Building the best name gender classification\n",
    "\n",
    "Using any of the three classifiers described in Chapter 6 of Natural Language Processing with Python, and any features you can think of, build the best name gender classifier you can.\n",
    "\n",
    "Begin by splitting the Names Corpus into three subsets: 500 words for the test set, 500 words for the dev-test set and the remaining 6900 words for the training set. Then, starting with the example name gender classifier, make incremental improvements. Use the dev-test set to check your progress. Once you are satisfied with your classifier, check its final performance on the test set. \n",
    "\n",
    "How does the performance on the test set compare to the performacne on the dev-test set? Is this what you'd expect?\n",
    "\n",
    "Group Members: Abdellah Ait Elmouden, Habib Khan, Priya Shaji, Vijaya Cherukuri"
   ]
  },
  {
   "cell_type": "code",
   "execution_count": 7,
   "metadata": {},
   "outputs": [],
   "source": [
    "# loading libraries\n",
    "import nltk\n",
    "from nltk.corpus import names\n",
    "from nltk.classify import apply_features\n",
    "import pandas as pd\n",
    "import random\n",
    "\n",
    "# download names\n",
    "#nltk.download('names')"
   ]
  },
  {
   "cell_type": "markdown",
   "metadata": {},
   "source": [
    "# Getting the Corpus"
   ]
  },
  {
   "cell_type": "code",
   "execution_count": 8,
   "metadata": {},
   "outputs": [],
   "source": [
    "# Getting the data and shuffling them\n",
    "names = ([(name, 'male') for name in names.words('male.txt')] + \n",
    "[(name, 'female') for name in names.words('female.txt')])\n"
   ]
  },
  {
   "cell_type": "code",
   "execution_count": 9,
   "metadata": {},
   "outputs": [],
   "source": [
    "# Reshuffle the corpus\n",
    "random.shuffle(names)"
   ]
  },
  {
   "cell_type": "code",
   "execution_count": 44,
   "metadata": {},
   "outputs": [
    {
     "data": {
      "text/plain": [
       "[('Bartholomeo', 'male'),\n",
       " ('Corrine', 'female'),\n",
       " ('Hodge', 'male'),\n",
       " ('Inesita', 'female'),\n",
       " ('Meier', 'male'),\n",
       " ('Coletta', 'female'),\n",
       " ('Marlin', 'male'),\n",
       " ('Terri', 'female'),\n",
       " ('Darth', 'male'),\n",
       " ('Lind', 'male'),\n",
       " ('Shem', 'male'),\n",
       " ('Moreen', 'female'),\n",
       " ('Kettie', 'female'),\n",
       " ('Gracie', 'female')]"
      ]
     },
     "execution_count": 44,
     "metadata": {},
     "output_type": "execute_result"
    }
   ],
   "source": [
    "# Random names with gender\n",
    "names[1:15]"
   ]
  },
  {
   "cell_type": "code",
   "execution_count": 11,
   "metadata": {},
   "outputs": [
    {
     "data": {
      "text/plain": [
       "7944"
      ]
     },
     "execution_count": 11,
     "metadata": {},
     "output_type": "execute_result"
    }
   ],
   "source": [
    "# checking the length\n",
    "len(names)"
   ]
  },
  {
   "cell_type": "markdown",
   "metadata": {},
   "source": [
    "# Analysis"
   ]
  },
  {
   "cell_type": "markdown",
   "metadata": {},
   "source": [
    "For this project, we will start working on the functions taken from Chapter 6 to test the accuracy of gender classification based on names. There are 2 functions which will be tested first and then finally modified function will be created that will be tested on test data to see final results. \n",
    "\n",
    "Before going forward, first we will create an accuracy function that will calculate the accuracy of each function to see which model performed better in terms of gender name classification."
   ]
  },
  {
   "cell_type": "code",
   "execution_count": 31,
   "metadata": {},
   "outputs": [],
   "source": [
    "# Defining accuracy function - \n",
    "\n",
    "def accuracy(runs, function):\n",
    "    accuracy_df = {\n",
    "        \"classifier\": [],\n",
    "        \"train_accuracy\": [],\n",
    "        \"test_accuracy\": [],\n",
    "        \"devtest_accuracy\": [],\n",
    "        \"devtest_errors\": []\n",
    "    }\n",
    "    for i in range(runs):\n",
    "        random.shuffle(names)\n",
    "        accuracy_train = names[1000:]\n",
    "        accuracy_devtest = names[500:1000]\n",
    "        accuracy_test = names[:500]\n",
    "        \n",
    "        accuracy_trainset = [(function(n), g) for (n,g) in accuracy_train]\n",
    "        accuracy_devtestset = [(function(n), g) for (n,g) in accuracy_devtest]\n",
    "        accuracy_testset = [(function(n), g) for (n,g) in accuracy_test]\n",
    "        \n",
    "        accuracy_classifier = nltk.NaiveBayesClassifier.train(accuracy_trainset)\n",
    "        accuracy_df[\"classifier\"].append(accuracy_classifier)\n",
    "        accuracy_df[\"train_accuracy\"].append(nltk.classify.accuracy(accuracy_classifier, accuracy_trainset))\n",
    "        accuracy_df[\"test_accuracy\"].append(nltk.classify.accuracy(accuracy_classifier, accuracy_testset))\n",
    "        accuracy_df[\"devtest_accuracy\"].append(nltk.classify.accuracy(accuracy_classifier, accuracy_devtestset))\n",
    "        \n",
    "        accuracy_errors = []\n",
    "        for (name, tag) in accuracy_devtest:\n",
    "            accuracy_guess = accuracy_classifier.classify(function(name))\n",
    "            if accuracy_guess != tag:\n",
    "                accuracy_errors.append( (tag, accuracy_guess, name) )\n",
    "                \n",
    "        accuracy_df[\"devtest_errors\"].append(accuracy_errors)\n",
    "        \n",
    "    accuracy_df = pd.DataFrame.from_dict(accuracy_df)\n",
    "    return(accuracy_df)"
   ]
  },
  {
   "cell_type": "code",
   "execution_count": 40,
   "metadata": {},
   "outputs": [
    {
     "data": {
      "text/plain": [
       "{'last_letter': 's'}"
      ]
     },
     "execution_count": 40,
     "metadata": {},
     "output_type": "execute_result"
    }
   ],
   "source": [
    "# Creating function 1\n",
    "def gender_feature1(name):\n",
    "    return {'last_letter': name[-1]}\n",
    "\n",
    "gender_feature1(\"Mr. Sherlock Holmes\")"
   ]
  },
  {
   "cell_type": "code",
   "execution_count": 41,
   "metadata": {},
   "outputs": [
    {
     "data": {
      "text/plain": [
       "{'firstletter': 'm',\n",
       " 'lastletter': 's',\n",
       " 'suffix2': 'es',\n",
       " 'preffix2': 'mr',\n",
       " 'count(a)': 0,\n",
       " 'has(a)': False,\n",
       " 'count(e)': 2,\n",
       " 'has(e)': True,\n",
       " 'count(i)': 0,\n",
       " 'has(i)': False,\n",
       " 'count(o)': 2,\n",
       " 'has(o)': True,\n",
       " 'count(u)': 0,\n",
       " 'has(u)': False}"
      ]
     },
     "execution_count": 41,
     "metadata": {},
     "output_type": "execute_result"
    }
   ],
   "source": [
    "# Creating function 2 - changing into lower\n",
    "def gender_features2(name):\n",
    "    features={}\n",
    "    features[\"firstletter\"]= name[0].lower()\n",
    "    features[\"lastletter\"] = name[-1].lower()\n",
    "    features[\"suffix2\"] =  name[-2:].lower()\n",
    "    features[\"preffix2\"] = name[:2].lower()\n",
    "    for letter in 'aeiou':\n",
    "        features[\"count(%s)\" % letter] = name.lower().count(letter)\n",
    "        features[\"has(%s)\" % letter] = (letter in name.lower())\n",
    "    return features\n",
    "gender_features2(\"Mr. Sherlock Holmes\")"
   ]
  },
  {
   "cell_type": "code",
   "execution_count": 49,
   "metadata": {},
   "outputs": [],
   "source": [
    "# Creating function 3 - \n",
    "\n",
    "def gender_features3(name):\n",
    "    features={}\n",
    "    features[\"firstletter\"]= name[0].lower()\n",
    "    features[\"lastletter\"] = name[-1].lower()\n",
    "    \n",
    "    # adding parameters if length of name is more than 4 for suffix and preffix\n",
    "    features[\"suffix2\"] =  name[-3:].lower() if len(name) > 4 else name[-2:].lower()\n",
    "    features[\"preffix2\"] = name[:3].lower() if len(name) > 4 else name[:2].lower()\n",
    "    for letter in 'aeiou':\n",
    "        features[\"count(%s)\" % letter] = name.lower().count(letter)\n",
    "        features[\"has(%s)\" % letter] = (letter in name.lower())\n",
    "    return features"
   ]
  },
  {
   "cell_type": "code",
   "execution_count": 52,
   "metadata": {},
   "outputs": [
    {
     "data": {
      "text/plain": [
       "{'firstletter': 's',\n",
       " 'lastletter': 'k',\n",
       " 'suffix2': 'ock',\n",
       " 'preffix2': 'she',\n",
       " 'count(a)': 0,\n",
       " 'has(a)': False,\n",
       " 'count(e)': 1,\n",
       " 'has(e)': True,\n",
       " 'count(i)': 0,\n",
       " 'has(i)': False,\n",
       " 'count(o)': 1,\n",
       " 'has(o)': True,\n",
       " 'count(u)': 0,\n",
       " 'has(u)': False}"
      ]
     },
     "execution_count": 52,
     "metadata": {},
     "output_type": "execute_result"
    }
   ],
   "source": [
    "gender_features3(\"Sherlock\")"
   ]
  },
  {
   "cell_type": "code",
   "execution_count": 35,
   "metadata": {},
   "outputs": [
    {
     "data": {
      "text/html": [
       "<div>\n",
       "<style scoped>\n",
       "    .dataframe tbody tr th:only-of-type {\n",
       "        vertical-align: middle;\n",
       "    }\n",
       "\n",
       "    .dataframe tbody tr th {\n",
       "        vertical-align: top;\n",
       "    }\n",
       "\n",
       "    .dataframe thead th {\n",
       "        text-align: right;\n",
       "    }\n",
       "</style>\n",
       "<table border=\"1\" class=\"dataframe\">\n",
       "  <thead>\n",
       "    <tr style=\"text-align: right;\">\n",
       "      <th></th>\n",
       "      <th>train_accuracy</th>\n",
       "      <th>test_accuracy</th>\n",
       "      <th>devtest_accuracy</th>\n",
       "    </tr>\n",
       "  </thead>\n",
       "  <tbody>\n",
       "    <tr>\n",
       "      <th>count</th>\n",
       "      <td>100.000000</td>\n",
       "      <td>100.000000</td>\n",
       "      <td>100.000000</td>\n",
       "    </tr>\n",
       "    <tr>\n",
       "      <th>mean</th>\n",
       "      <td>0.763270</td>\n",
       "      <td>0.756300</td>\n",
       "      <td>0.759280</td>\n",
       "    </tr>\n",
       "    <tr>\n",
       "      <th>std</th>\n",
       "      <td>0.001891</td>\n",
       "      <td>0.016586</td>\n",
       "      <td>0.017786</td>\n",
       "    </tr>\n",
       "    <tr>\n",
       "      <th>min</th>\n",
       "      <td>0.758929</td>\n",
       "      <td>0.710000</td>\n",
       "      <td>0.708000</td>\n",
       "    </tr>\n",
       "    <tr>\n",
       "      <th>25%</th>\n",
       "      <td>0.761953</td>\n",
       "      <td>0.746000</td>\n",
       "      <td>0.747500</td>\n",
       "    </tr>\n",
       "    <tr>\n",
       "      <th>50%</th>\n",
       "      <td>0.763177</td>\n",
       "      <td>0.754000</td>\n",
       "      <td>0.758000</td>\n",
       "    </tr>\n",
       "    <tr>\n",
       "      <th>75%</th>\n",
       "      <td>0.764437</td>\n",
       "      <td>0.766500</td>\n",
       "      <td>0.772500</td>\n",
       "    </tr>\n",
       "    <tr>\n",
       "      <th>max</th>\n",
       "      <td>0.768865</td>\n",
       "      <td>0.806000</td>\n",
       "      <td>0.800000</td>\n",
       "    </tr>\n",
       "  </tbody>\n",
       "</table>\n",
       "</div>"
      ],
      "text/plain": [
       "       train_accuracy  test_accuracy  devtest_accuracy\n",
       "count      100.000000     100.000000        100.000000\n",
       "mean         0.763270       0.756300          0.759280\n",
       "std          0.001891       0.016586          0.017786\n",
       "min          0.758929       0.710000          0.708000\n",
       "25%          0.761953       0.746000          0.747500\n",
       "50%          0.763177       0.754000          0.758000\n",
       "75%          0.764437       0.766500          0.772500\n",
       "max          0.768865       0.806000          0.800000"
      ]
     },
     "execution_count": 35,
     "metadata": {},
     "output_type": "execute_result"
    }
   ],
   "source": [
    "# Testing function 1\n",
    "test_f1 = accuracy(100, gender_feature1)\n",
    "test_f1.describe()"
   ]
  },
  {
   "cell_type": "markdown",
   "metadata": {},
   "source": [
    "function 1 has accuracy of 0.756300 on test set which was performed through checking the last letter of the names. According to the text in chapter 6, there are patterns in the last letter of the gender which was initially helpful to identify the genders with 75.36% accuracy on the test dataset. Names ending in a, e and i are likely to be female while names ending in k, o, r, s and t are likely to be male. The accuracy did not change significantly throughout the train, devtest and test datasets."
   ]
  },
  {
   "cell_type": "code",
   "execution_count": 42,
   "metadata": {},
   "outputs": [
    {
     "data": {
      "text/html": [
       "<div>\n",
       "<style scoped>\n",
       "    .dataframe tbody tr th:only-of-type {\n",
       "        vertical-align: middle;\n",
       "    }\n",
       "\n",
       "    .dataframe tbody tr th {\n",
       "        vertical-align: top;\n",
       "    }\n",
       "\n",
       "    .dataframe thead th {\n",
       "        text-align: right;\n",
       "    }\n",
       "</style>\n",
       "<table border=\"1\" class=\"dataframe\">\n",
       "  <thead>\n",
       "    <tr style=\"text-align: right;\">\n",
       "      <th></th>\n",
       "      <th>train_accuracy</th>\n",
       "      <th>test_accuracy</th>\n",
       "      <th>devtest_accuracy</th>\n",
       "    </tr>\n",
       "  </thead>\n",
       "  <tbody>\n",
       "    <tr>\n",
       "      <th>count</th>\n",
       "      <td>100.000000</td>\n",
       "      <td>100.000000</td>\n",
       "      <td>100.000000</td>\n",
       "    </tr>\n",
       "    <tr>\n",
       "      <th>mean</th>\n",
       "      <td>0.808620</td>\n",
       "      <td>0.797040</td>\n",
       "      <td>0.796640</td>\n",
       "    </tr>\n",
       "    <tr>\n",
       "      <th>std</th>\n",
       "      <td>0.001876</td>\n",
       "      <td>0.016476</td>\n",
       "      <td>0.015384</td>\n",
       "    </tr>\n",
       "    <tr>\n",
       "      <th>min</th>\n",
       "      <td>0.804724</td>\n",
       "      <td>0.758000</td>\n",
       "      <td>0.764000</td>\n",
       "    </tr>\n",
       "    <tr>\n",
       "      <th>25%</th>\n",
       "      <td>0.807460</td>\n",
       "      <td>0.786000</td>\n",
       "      <td>0.786000</td>\n",
       "    </tr>\n",
       "    <tr>\n",
       "      <th>50%</th>\n",
       "      <td>0.808540</td>\n",
       "      <td>0.796000</td>\n",
       "      <td>0.796000</td>\n",
       "    </tr>\n",
       "    <tr>\n",
       "      <th>75%</th>\n",
       "      <td>0.809908</td>\n",
       "      <td>0.810000</td>\n",
       "      <td>0.806000</td>\n",
       "    </tr>\n",
       "    <tr>\n",
       "      <th>max</th>\n",
       "      <td>0.813076</td>\n",
       "      <td>0.844000</td>\n",
       "      <td>0.834000</td>\n",
       "    </tr>\n",
       "  </tbody>\n",
       "</table>\n",
       "</div>"
      ],
      "text/plain": [
       "       train_accuracy  test_accuracy  devtest_accuracy\n",
       "count      100.000000     100.000000        100.000000\n",
       "mean         0.808620       0.797040          0.796640\n",
       "std          0.001876       0.016476          0.015384\n",
       "min          0.804724       0.758000          0.764000\n",
       "25%          0.807460       0.786000          0.786000\n",
       "50%          0.808540       0.796000          0.796000\n",
       "75%          0.809908       0.810000          0.806000\n",
       "max          0.813076       0.844000          0.834000"
      ]
     },
     "execution_count": 42,
     "metadata": {},
     "output_type": "execute_result"
    }
   ],
   "source": [
    "# Testing function 2\n",
    "test_f2 = accuracy(100, gender_features2)\n",
    "test_f2.describe()"
   ]
  },
  {
   "cell_type": "markdown",
   "metadata": {},
   "source": [
    "In function 2, more features were added to improve the accuracy of name gender classifications other than the last letter that was discussed previously. In this function, first letter of first name has also been added to see if there is any trend among the genders. Also, number of vowels has also been seen to identify any pattern for male and female. Function 2 improved the accuracy by almost 4 - 5 % in train, test and devtest datasets overall. There is no significant difference in the accuracies among the train, test and devtest datasets which means prediction was almost 80% times accurate to classify the name gender. "
   ]
  },
  {
   "cell_type": "code",
   "execution_count": 50,
   "metadata": {},
   "outputs": [
    {
     "data": {
      "text/html": [
       "<div>\n",
       "<style scoped>\n",
       "    .dataframe tbody tr th:only-of-type {\n",
       "        vertical-align: middle;\n",
       "    }\n",
       "\n",
       "    .dataframe tbody tr th {\n",
       "        vertical-align: top;\n",
       "    }\n",
       "\n",
       "    .dataframe thead th {\n",
       "        text-align: right;\n",
       "    }\n",
       "</style>\n",
       "<table border=\"1\" class=\"dataframe\">\n",
       "  <thead>\n",
       "    <tr style=\"text-align: right;\">\n",
       "      <th></th>\n",
       "      <th>train_accuracy</th>\n",
       "      <th>test_accuracy</th>\n",
       "      <th>devtest_accuracy</th>\n",
       "    </tr>\n",
       "  </thead>\n",
       "  <tbody>\n",
       "    <tr>\n",
       "      <th>count</th>\n",
       "      <td>100.000000</td>\n",
       "      <td>100.000000</td>\n",
       "      <td>100.000000</td>\n",
       "    </tr>\n",
       "    <tr>\n",
       "      <th>mean</th>\n",
       "      <td>0.870756</td>\n",
       "      <td>0.828060</td>\n",
       "      <td>0.829560</td>\n",
       "    </tr>\n",
       "    <tr>\n",
       "      <th>std</th>\n",
       "      <td>0.001737</td>\n",
       "      <td>0.017033</td>\n",
       "      <td>0.017379</td>\n",
       "    </tr>\n",
       "    <tr>\n",
       "      <th>min</th>\n",
       "      <td>0.866647</td>\n",
       "      <td>0.768000</td>\n",
       "      <td>0.794000</td>\n",
       "    </tr>\n",
       "    <tr>\n",
       "      <th>25%</th>\n",
       "      <td>0.869636</td>\n",
       "      <td>0.817500</td>\n",
       "      <td>0.816000</td>\n",
       "    </tr>\n",
       "    <tr>\n",
       "      <th>50%</th>\n",
       "      <td>0.870752</td>\n",
       "      <td>0.826000</td>\n",
       "      <td>0.828000</td>\n",
       "    </tr>\n",
       "    <tr>\n",
       "      <th>75%</th>\n",
       "      <td>0.871976</td>\n",
       "      <td>0.840000</td>\n",
       "      <td>0.842000</td>\n",
       "    </tr>\n",
       "    <tr>\n",
       "      <th>max</th>\n",
       "      <td>0.875288</td>\n",
       "      <td>0.866000</td>\n",
       "      <td>0.876000</td>\n",
       "    </tr>\n",
       "  </tbody>\n",
       "</table>\n",
       "</div>"
      ],
      "text/plain": [
       "       train_accuracy  test_accuracy  devtest_accuracy\n",
       "count      100.000000     100.000000        100.000000\n",
       "mean         0.870756       0.828060          0.829560\n",
       "std          0.001737       0.017033          0.017379\n",
       "min          0.866647       0.768000          0.794000\n",
       "25%          0.869636       0.817500          0.816000\n",
       "50%          0.870752       0.826000          0.828000\n",
       "75%          0.871976       0.840000          0.842000\n",
       "max          0.875288       0.866000          0.876000"
      ]
     },
     "execution_count": 50,
     "metadata": {},
     "output_type": "execute_result"
    }
   ],
   "source": [
    "# Testing function 3\n",
    "test_f3 = accuracy(100, gender_features3)\n",
    "test_f3.describe()"
   ]
  },
  {
   "cell_type": "markdown",
   "metadata": {},
   "source": [
    "Function 3 was modification of previous functions 2. In this function, we added another criteria for suffix and preffix i.e. if the length of name is more than 4 then the function will look up for first 3 and last 3 letters to see the pattern for gender classification out of names. It tremendously improved the accuracy in train dataset which is 87.07% but the accuracy dropped down to around 82.8% on test and devtest datasets but still it is improved version than the previous functions. "
   ]
  },
  {
   "cell_type": "markdown",
   "metadata": {},
   "source": [
    "# References\n",
    "\n",
    "https://subscription.packtpub.com/book/big_data_and_business_intelligence/9781789139495/2/ch02lvl1sec17/training-a-sentiment-classifier-for-movie-reviews\n",
    "\n",
    "https://www.nltk.org/book/ch06.html"
   ]
  }
 ],
 "metadata": {
  "kernelspec": {
   "display_name": "Python 3",
   "language": "python",
   "name": "python3"
  },
  "language_info": {
   "codemirror_mode": {
    "name": "ipython",
    "version": 3
   },
   "file_extension": ".py",
   "mimetype": "text/x-python",
   "name": "python",
   "nbconvert_exporter": "python",
   "pygments_lexer": "ipython3",
   "version": "3.7.3"
  }
 },
 "nbformat": 4,
 "nbformat_minor": 2
}
