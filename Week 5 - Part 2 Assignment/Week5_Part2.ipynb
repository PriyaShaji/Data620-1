{
 "cells": [
  {
   "cell_type": "markdown",
   "metadata": {},
   "source": [
    "### [UCI Dataset Repository] (http://archive.ics.uci.edu/ml/datasets/Spambase)"
   ]
  },
  {
   "cell_type": "markdown",
   "metadata": {},
   "source": [
    "### Group members: By : Habib Khan, Vijaya Cherukuri, Priya Shaji, Abdellah Ait Elmouden\n",
    "\n",
    "### Youtube Link: https://youtu.be/yarVOwdU8F4"
   ]
  },
  {
   "cell_type": "markdown",
   "metadata": {},
   "source": [
    "### Import required libraries"
   ]
  },
  {
   "cell_type": "code",
   "execution_count": 1,
   "metadata": {},
   "outputs": [],
   "source": [
    "from IPython.display import Image\n",
    "import pandas as pd\n",
    "from sklearn import tree\n",
    "from sklearn.model_selection import train_test_split\n",
    "from sklearn.metrics import accuracy_score\n",
    "from sklearn.ensemble import RandomForestClassifier\n",
    "from sklearn.metrics import confusion_matrix\n",
    "from sklearn.svm import LinearSVC\n",
    "from sklearn.metrics import f1_score\n",
    "import matplotlib.pyplot as plt\n",
    "from sklearn.model_selection import cross_val_score\n",
    "import numpy as np"
   ]
  },
  {
   "cell_type": "markdown",
   "metadata": {},
   "source": [
    "### Load the spambase UCI dataset and columns of dataset "
   ]
  },
  {
   "cell_type": "code",
   "execution_count": 2,
   "metadata": {},
   "outputs": [
    {
     "data": {
      "text/html": [
       "<div>\n",
       "<style scoped>\n",
       "    .dataframe tbody tr th:only-of-type {\n",
       "        vertical-align: middle;\n",
       "    }\n",
       "\n",
       "    .dataframe tbody tr th {\n",
       "        vertical-align: top;\n",
       "    }\n",
       "\n",
       "    .dataframe thead th {\n",
       "        text-align: right;\n",
       "    }\n",
       "</style>\n",
       "<table border=\"1\" class=\"dataframe\">\n",
       "  <thead>\n",
       "    <tr style=\"text-align: right;\">\n",
       "      <th>attributes</th>\n",
       "      <th>word_freq_make</th>\n",
       "      <th>word_freq_address</th>\n",
       "      <th>word_freq_all</th>\n",
       "      <th>word_freq_3d</th>\n",
       "      <th>word_freq_our</th>\n",
       "      <th>word_freq_over</th>\n",
       "      <th>word_freq_remove</th>\n",
       "      <th>word_freq_internet</th>\n",
       "      <th>word_freq_order</th>\n",
       "      <th>word_freq_mail</th>\n",
       "      <th>...</th>\n",
       "      <th>char_freq_;</th>\n",
       "      <th>char_freq_(</th>\n",
       "      <th>char_freq_[</th>\n",
       "      <th>char_freq_!</th>\n",
       "      <th>char_freq_$</th>\n",
       "      <th>char_freq_#</th>\n",
       "      <th>capital_run_length_average</th>\n",
       "      <th>capital_run_length_longest</th>\n",
       "      <th>capital_run_length_total</th>\n",
       "      <th>target</th>\n",
       "    </tr>\n",
       "  </thead>\n",
       "  <tbody>\n",
       "    <tr>\n",
       "      <th>0</th>\n",
       "      <td>0.00</td>\n",
       "      <td>0.64</td>\n",
       "      <td>0.64</td>\n",
       "      <td>0.0</td>\n",
       "      <td>0.32</td>\n",
       "      <td>0.00</td>\n",
       "      <td>0.00</td>\n",
       "      <td>0.00</td>\n",
       "      <td>0.00</td>\n",
       "      <td>0.00</td>\n",
       "      <td>...</td>\n",
       "      <td>0.00</td>\n",
       "      <td>0.000</td>\n",
       "      <td>0.0</td>\n",
       "      <td>0.778</td>\n",
       "      <td>0.000</td>\n",
       "      <td>0.000</td>\n",
       "      <td>3.756</td>\n",
       "      <td>61</td>\n",
       "      <td>278</td>\n",
       "      <td>1</td>\n",
       "    </tr>\n",
       "    <tr>\n",
       "      <th>1</th>\n",
       "      <td>0.21</td>\n",
       "      <td>0.28</td>\n",
       "      <td>0.50</td>\n",
       "      <td>0.0</td>\n",
       "      <td>0.14</td>\n",
       "      <td>0.28</td>\n",
       "      <td>0.21</td>\n",
       "      <td>0.07</td>\n",
       "      <td>0.00</td>\n",
       "      <td>0.94</td>\n",
       "      <td>...</td>\n",
       "      <td>0.00</td>\n",
       "      <td>0.132</td>\n",
       "      <td>0.0</td>\n",
       "      <td>0.372</td>\n",
       "      <td>0.180</td>\n",
       "      <td>0.048</td>\n",
       "      <td>5.114</td>\n",
       "      <td>101</td>\n",
       "      <td>1028</td>\n",
       "      <td>1</td>\n",
       "    </tr>\n",
       "    <tr>\n",
       "      <th>2</th>\n",
       "      <td>0.06</td>\n",
       "      <td>0.00</td>\n",
       "      <td>0.71</td>\n",
       "      <td>0.0</td>\n",
       "      <td>1.23</td>\n",
       "      <td>0.19</td>\n",
       "      <td>0.19</td>\n",
       "      <td>0.12</td>\n",
       "      <td>0.64</td>\n",
       "      <td>0.25</td>\n",
       "      <td>...</td>\n",
       "      <td>0.01</td>\n",
       "      <td>0.143</td>\n",
       "      <td>0.0</td>\n",
       "      <td>0.276</td>\n",
       "      <td>0.184</td>\n",
       "      <td>0.010</td>\n",
       "      <td>9.821</td>\n",
       "      <td>485</td>\n",
       "      <td>2259</td>\n",
       "      <td>1</td>\n",
       "    </tr>\n",
       "    <tr>\n",
       "      <th>3</th>\n",
       "      <td>0.00</td>\n",
       "      <td>0.00</td>\n",
       "      <td>0.00</td>\n",
       "      <td>0.0</td>\n",
       "      <td>0.63</td>\n",
       "      <td>0.00</td>\n",
       "      <td>0.31</td>\n",
       "      <td>0.63</td>\n",
       "      <td>0.31</td>\n",
       "      <td>0.63</td>\n",
       "      <td>...</td>\n",
       "      <td>0.00</td>\n",
       "      <td>0.137</td>\n",
       "      <td>0.0</td>\n",
       "      <td>0.137</td>\n",
       "      <td>0.000</td>\n",
       "      <td>0.000</td>\n",
       "      <td>3.537</td>\n",
       "      <td>40</td>\n",
       "      <td>191</td>\n",
       "      <td>1</td>\n",
       "    </tr>\n",
       "    <tr>\n",
       "      <th>4</th>\n",
       "      <td>0.00</td>\n",
       "      <td>0.00</td>\n",
       "      <td>0.00</td>\n",
       "      <td>0.0</td>\n",
       "      <td>0.63</td>\n",
       "      <td>0.00</td>\n",
       "      <td>0.31</td>\n",
       "      <td>0.63</td>\n",
       "      <td>0.31</td>\n",
       "      <td>0.63</td>\n",
       "      <td>...</td>\n",
       "      <td>0.00</td>\n",
       "      <td>0.135</td>\n",
       "      <td>0.0</td>\n",
       "      <td>0.135</td>\n",
       "      <td>0.000</td>\n",
       "      <td>0.000</td>\n",
       "      <td>3.537</td>\n",
       "      <td>40</td>\n",
       "      <td>191</td>\n",
       "      <td>1</td>\n",
       "    </tr>\n",
       "  </tbody>\n",
       "</table>\n",
       "<p>5 rows × 58 columns</p>\n",
       "</div>"
      ],
      "text/plain": [
       "attributes  word_freq_make  word_freq_address  word_freq_all  word_freq_3d  \\\n",
       "0                     0.00               0.64           0.64           0.0   \n",
       "1                     0.21               0.28           0.50           0.0   \n",
       "2                     0.06               0.00           0.71           0.0   \n",
       "3                     0.00               0.00           0.00           0.0   \n",
       "4                     0.00               0.00           0.00           0.0   \n",
       "\n",
       "attributes  word_freq_our  word_freq_over  word_freq_remove  \\\n",
       "0                    0.32            0.00              0.00   \n",
       "1                    0.14            0.28              0.21   \n",
       "2                    1.23            0.19              0.19   \n",
       "3                    0.63            0.00              0.31   \n",
       "4                    0.63            0.00              0.31   \n",
       "\n",
       "attributes  word_freq_internet  word_freq_order  word_freq_mail  ...  \\\n",
       "0                         0.00             0.00            0.00  ...   \n",
       "1                         0.07             0.00            0.94  ...   \n",
       "2                         0.12             0.64            0.25  ...   \n",
       "3                         0.63             0.31            0.63  ...   \n",
       "4                         0.63             0.31            0.63  ...   \n",
       "\n",
       "attributes  char_freq_;  char_freq_(  char_freq_[  char_freq_!  char_freq_$  \\\n",
       "0                  0.00        0.000          0.0        0.778        0.000   \n",
       "1                  0.00        0.132          0.0        0.372        0.180   \n",
       "2                  0.01        0.143          0.0        0.276        0.184   \n",
       "3                  0.00        0.137          0.0        0.137        0.000   \n",
       "4                  0.00        0.135          0.0        0.135        0.000   \n",
       "\n",
       "attributes  char_freq_#  capital_run_length_average  \\\n",
       "0                 0.000                       3.756   \n",
       "1                 0.048                       5.114   \n",
       "2                 0.010                       9.821   \n",
       "3                 0.000                       3.537   \n",
       "4                 0.000                       3.537   \n",
       "\n",
       "attributes  capital_run_length_longest  capital_run_length_total  target  \n",
       "0                                   61                       278       1  \n",
       "1                                  101                      1028       1  \n",
       "2                                  485                      2259       1  \n",
       "3                                   40                       191       1  \n",
       "4                                   40                       191       1  \n",
       "\n",
       "[5 rows x 58 columns]"
      ]
     },
     "execution_count": 2,
     "metadata": {},
     "output_type": "execute_result"
    }
   ],
   "source": [
    "##---- load data\n",
    "spam = pd.read_csv('https://raw.githubusercontent.com/PriyaShaji/Data620/master/Week%205/spam.csv', header=None)\n",
    "\n",
    "##---- load column titles\n",
    "col_titles = pd.read_csv('https://raw.githubusercontent.com/PriyaShaji/Data620/master/Week%205/spam_column_names.csv', header=None)\n",
    "col_titles.columns = ['attributes']\n",
    "spam.columns = col_titles['attributes']\n",
    "\n",
    "spam.head()"
   ]
  },
  {
   "cell_type": "markdown",
   "metadata": {},
   "source": [
    "### Counting number of spam and not spam emails"
   ]
  },
  {
   "cell_type": "code",
   "execution_count": 3,
   "metadata": {},
   "outputs": [
    {
     "data": {
      "text/plain": [
       "0    2788\n",
       "1    1813\n",
       "Name: target, dtype: int64"
      ]
     },
     "execution_count": 3,
     "metadata": {},
     "output_type": "execute_result"
    }
   ],
   "source": [
    "spam['target'].value_counts()"
   ]
  },
  {
   "cell_type": "markdown",
   "metadata": {},
   "source": [
    "### Test set will be 30% of data and set a seed"
   ]
  },
  {
   "cell_type": "code",
   "execution_count": 4,
   "metadata": {},
   "outputs": [],
   "source": [
    "test_size = 0.3\n",
    "random_state = 512\n",
    "\n",
    "#separate the target variable from the input variables\n",
    "\n",
    "X = spam.loc[:,spam.columns != 'target']\n",
    "y = spam.loc[:,spam.columns == 'target']"
   ]
  },
  {
   "cell_type": "markdown",
   "metadata": {},
   "source": [
    "### Split data set into training and testing"
   ]
  },
  {
   "cell_type": "code",
   "execution_count": 5,
   "metadata": {},
   "outputs": [],
   "source": [
    "X_train, X_test, y_train, y_test = train_test_split(X, y, test_size=test_size, random_state=random_state)"
   ]
  },
  {
   "cell_type": "markdown",
   "metadata": {},
   "source": [
    "### Model 1: Decision Tree\n",
    "### A decision tree is a model that is built based on sets of binary decisions."
   ]
  },
  {
   "cell_type": "code",
   "execution_count": 6,
   "metadata": {},
   "outputs": [
    {
     "name": "stdout",
     "output_type": "stream",
     "text": [
      "Training Set Accuracy:  0.9996894409937889\n",
      "Test Set Accuracy:  0.9116582186821144\n",
      "F1 Score:  0.8829174664107485\n",
      "Confusion Matrix \n",
      " [[799  77]\n",
      " [ 45 460]]\n"
     ]
    }
   ],
   "source": [
    "model_dt = tree.DecisionTreeClassifier()\n",
    "trained_dt = model_dt.fit(X_train, y_train)\n",
    "pred_dt = trained_dt.predict(X_test)\n",
    "\n",
    "print('Training Set Accuracy: ', accuracy_score(y_train, trained_dt.predict(X_train)))\n",
    "print('Test Set Accuracy: ', accuracy_score(y_test, pred_dt))\n",
    "print('F1 Score: ', f1_score(y_test, pred_dt))\n",
    "print('Confusion Matrix \\n', confusion_matrix(y_test, pred_dt))\n"
   ]
  },
  {
   "cell_type": "markdown",
   "metadata": {},
   "source": [
    "### The decision tree model has an accuracy of 0.91 for the test set. That means that 91% of the predictions were correct. The F1 score, which is the harmonic mean of the recall and precision, is 0.88."
   ]
  },
  {
   "cell_type": "markdown",
   "metadata": {},
   "source": [
    "### Model 2: Random Forest\n",
    "\n",
    "### A random forest model is built using many decision trees. The result of the random forest model is determined by averaging the results of each decision tree in the forest."
   ]
  },
  {
   "cell_type": "code",
   "execution_count": 7,
   "metadata": {},
   "outputs": [
    {
     "name": "stderr",
     "output_type": "stream",
     "text": [
      "/Users/priyashaji/opt/anaconda3/lib/python3.7/site-packages/ipykernel_launcher.py:2: DataConversionWarning: A column-vector y was passed when a 1d array was expected. Please change the shape of y to (n_samples,), for example using ravel().\n",
      "  \n"
     ]
    },
    {
     "name": "stdout",
     "output_type": "stream",
     "text": [
      "Training Set Accuracy:  0.9996894409937889\n",
      "Test Set Accuracy:  0.9601737871107893\n",
      "F1 Score:  0.9454905847373637\n",
      "Confusion Matrix \n",
      " [[849  27]\n",
      " [ 28 477]]\n"
     ]
    }
   ],
   "source": [
    "model_rf = RandomForestClassifier()\n",
    "trained_rf = model_rf.fit(X_train, y_train)\n",
    "pred_rf = trained_rf.predict(X_test)\n",
    "\n",
    "print('Training Set Accuracy: ', accuracy_score(y_train, trained_rf.predict(X_train)))\n",
    "print('Test Set Accuracy: ', accuracy_score(y_test, pred_rf))\n",
    "print('F1 Score: ', f1_score(y_test, pred_rf))\n",
    "print('Confusion Matrix \\n', confusion_matrix(y_test, pred_rf))"
   ]
  },
  {
   "cell_type": "markdown",
   "metadata": {},
   "source": [
    "### The random forest model was more successful than the decision tree model. The test set has an accuracy of 0.96 which means that 96% of the predictions were correct and the F1 score is 0.94."
   ]
  },
  {
   "cell_type": "markdown",
   "metadata": {},
   "source": [
    "### Model 3: Support Vector Machine\n",
    "\n",
    "### A Support Vector Machine, SVM, is built by creating a series of linear separations between the variables in order to create a model to predict the target variable."
   ]
  },
  {
   "cell_type": "code",
   "execution_count": 8,
   "metadata": {},
   "outputs": [
    {
     "name": "stderr",
     "output_type": "stream",
     "text": [
      "/Users/priyashaji/opt/anaconda3/lib/python3.7/site-packages/sklearn/utils/validation.py:760: DataConversionWarning: A column-vector y was passed when a 1d array was expected. Please change the shape of y to (n_samples, ), for example using ravel().\n",
      "  y = column_or_1d(y, warn=True)\n",
      "/Users/priyashaji/opt/anaconda3/lib/python3.7/site-packages/sklearn/svm/_base.py:947: ConvergenceWarning: Liblinear failed to converge, increase the number of iterations.\n",
      "  \"the number of iterations.\", ConvergenceWarning)\n"
     ]
    },
    {
     "name": "stdout",
     "output_type": "stream",
     "text": [
      "Training Set Accuracy:  0.8593167701863355\n",
      "Test Set Accuracy:  0.8790731354091238\n",
      "F1 Score:  0.8170865279299013\n",
      "Confusion Matrix \n",
      " [[841  35]\n",
      " [132 373]]\n"
     ]
    }
   ],
   "source": [
    "model_svm = LinearSVC()\n",
    "trained_svm = model_svm.fit(X_train, y_train)\n",
    "pred_svm = trained_svm.predict(X_test)\n",
    "\n",
    "print('Training Set Accuracy: ', accuracy_score(y_train, trained_svm.predict(X_train)))\n",
    "print('Test Set Accuracy: ', accuracy_score(y_test, pred_svm))\n",
    "print('F1 Score: ', f1_score(y_test, pred_svm))\n",
    "print('Confusion Matrix \\n', confusion_matrix(y_test, pred_svm))"
   ]
  },
  {
   "cell_type": "markdown",
   "metadata": {},
   "source": [
    "### The SVM model has an accuracy of 0.87 which means that 87% of the predictions were correct and F1 score of 0.81"
   ]
  },
  {
   "cell_type": "markdown",
   "metadata": {},
   "source": [
    "### Model Selection\n",
    "\n",
    "### So let's describe random forest model since it showed highest test set accuracy"
   ]
  },
  {
   "cell_type": "code",
   "execution_count": 9,
   "metadata": {},
   "outputs": [
    {
     "data": {
      "text/plain": [
       "RandomForestClassifier(bootstrap=True, ccp_alpha=0.0, class_weight=None,\n",
       "                       criterion='gini', max_depth=None, max_features='auto',\n",
       "                       max_leaf_nodes=None, max_samples=None,\n",
       "                       min_impurity_decrease=0.0, min_impurity_split=None,\n",
       "                       min_samples_leaf=1, min_samples_split=2,\n",
       "                       min_weight_fraction_leaf=0.0, n_estimators=100,\n",
       "                       n_jobs=None, oob_score=False, random_state=None,\n",
       "                       verbose=0, warm_start=False)"
      ]
     },
     "execution_count": 9,
     "metadata": {},
     "output_type": "execute_result"
    }
   ],
   "source": [
    "model_rf"
   ]
  },
  {
   "cell_type": "markdown",
   "metadata": {},
   "source": [
    "### Feature Importance\n",
    " \n",
    "### The following are the 10 most significant variables being used in the random forest model.\n"
   ]
  },
  {
   "cell_type": "code",
   "execution_count": 10,
   "metadata": {},
   "outputs": [
    {
     "data": {
      "image/png": "[encoded data removed]",
      "text/plain": [
       "<Figure size 432x288 with 1 Axes>"
      ]
     },
     "metadata": {
      "needs_background": "light"
     },
     "output_type": "display_data"
    }
   ],
   "source": [
    "feature_importances = pd.DataFrame(model_rf.feature_importances_,\n",
    "                                  index=X_train.columns,\n",
    "                                  columns=['importance']).sort_values('importance', ascending=False)\n",
    "feature_importances = feature_importances[:10]\n",
    "feature_importances.plot(kind='barh')\n",
    "plt.title('Feature Importances')\n",
    "plt.show()\n"
   ]
  },
  {
   "cell_type": "markdown",
   "metadata": {},
   "source": [
    "### According to graph above, the most important variables to determine whether an email is spam are:\n",
    "#### the frequency of exclamation points\n",
    "#### the frequency of dollar signs\n",
    "#### the frequency of the word 'remove'\n",
    "#### the frequency of the word 'free'\n",
    "#### the average length of words madeup of capital letters\n",
    "#### etc.."
   ]
  },
  {
   "cell_type": "markdown",
   "metadata": {},
   "source": [
    "### To validate this result, we will choose a different seed for splitting the training and testing set and re-run the model.\n",
    "\n",
    "### test set will be 30% of data and set a seed\n",
    "\n",
    "#### this time we would set a different seed just to evaluate our initial random forest model test accuracy"
   ]
  },
  {
   "cell_type": "code",
   "execution_count": 11,
   "metadata": {},
   "outputs": [
    {
     "name": "stderr",
     "output_type": "stream",
     "text": [
      "/Users/priyashaji/opt/anaconda3/lib/python3.7/site-packages/ipykernel_launcher.py:12: DataConversionWarning: A column-vector y was passed when a 1d array was expected. Please change the shape of y to (n_samples,), for example using ravel().\n",
      "  if sys.path[0] == '':\n"
     ]
    },
    {
     "name": "stdout",
     "output_type": "stream",
     "text": [
      "Training Set Accuracy:  0.9993788819875776\n",
      "Test Set Accuracy:  0.9551049963794352\n",
      "F1 Score:  0.9436363636363636\n",
      "Confusion Matrix \n",
      " [[800  27]\n",
      " [ 35 519]]\n"
     ]
    }
   ],
   "source": [
    "\n",
    "test_size = 0.3\n",
    "random_state = 44\n",
    "\n",
    "#separate the target variable from the input variables\n",
    "X = spam.loc[:,spam.columns != 'target']\n",
    "y = spam.loc[:,spam.columns == 'target']\n",
    "\n",
    "#split data set into training and testing\n",
    "X_train, X_test, y_train, y_test = train_test_split(X, y, test_size=test_size, random_state=random_state)\n",
    "\n",
    "model_rf = RandomForestClassifier()\n",
    "trained_rf = model_rf.fit(X_train, y_train)\n",
    "pred_rf = trained_rf.predict(X_test)\n",
    "\n",
    "print('Training Set Accuracy: ', accuracy_score(y_train, trained_rf.predict(X_train)))\n",
    "print('Test Set Accuracy: ', accuracy_score(y_test, pred_rf))\n",
    "print('F1 Score: ', f1_score(y_test, pred_rf))\n",
    "print('Confusion Matrix \\n', confusion_matrix(y_test, pred_rf))"
   ]
  },
  {
   "cell_type": "markdown",
   "metadata": {},
   "source": [
    "### As we see, test set acuracy is 95% which means this result is similar to the result of the initial random forest model. This tells us that the ability of the random forest model to accurately predict whether an email (spam or ham), is much efficient compared to other models."
   ]
  },
  {
   "cell_type": "code",
   "execution_count": null,
   "metadata": {},
   "outputs": [],
   "source": []
  }
 ],
 "metadata": {
  "kernelspec": {
   "display_name": "Python 3",
   "language": "python",
   "name": "python3"
  },
  "language_info": {
   "codemirror_mode": {
    "name": "ipython",
    "version": 3
   },
   "file_extension": ".py",
   "mimetype": "text/x-python",
   "name": "python",
   "nbconvert_exporter": "python",
   "pygments_lexer": "ipython3",
   "version": "3.7.6"
  }
 },
 "nbformat": 4,
 "nbformat_minor": 4
}
