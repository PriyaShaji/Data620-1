{
 "cells": [
  {
   "cell_type": "code",
   "execution_count": 51,
   "metadata": {},
   "outputs": [],
   "source": [
    "import networkx as nx\n",
    "import os\n",
    "import ads as ads \n",
    "import matplotlib.pyplot as plt\n",
    "import pandas as pd\n",
    "from networkx.algorithms import bipartite as bi"
   ]
  },
  {
   "cell_type": "markdown",
   "metadata": {},
   "source": [
    "We'll use the [ADS](https://ui.adsabs.harvard.edu/) (astrophysics data system) API to request data. In order to do that We'll use the environment variables os.environ to store API tokens."
   ]
  },
  {
   "cell_type": "code",
   "execution_count": 52,
   "metadata": {},
   "outputs": [],
   "source": [
    "os.environ[\"ADS_DEV_KEY\"] = \"wNFXZ7f0VQnfStI8zo0rDFNthx5rLJYQhDMm2NFS\""
   ]
  },
  {
   "cell_type": "code",
   "execution_count": 53,
   "metadata": {},
   "outputs": [],
   "source": [
    "ads.config.token = 'ADS_DEV_KEY'"
   ]
  },
  {
   "cell_type": "markdown",
   "metadata": {},
   "source": [
    "Now we can Search for papers on ADS. Let's search for the 50 most cited on gravity."
   ]
  },
  {
   "cell_type": "code",
   "execution_count": 54,
   "metadata": {},
   "outputs": [
    {
     "name": "stdout",
     "output_type": "stream",
     "text": [
      "50\n"
     ]
    }
   ],
   "source": [
    "papers1 = list(ads.SearchQuery(q= \"gravity\", sort=\"citation_count\", max_pages=1 ))\n",
    "print(len(papers1))"
   ]
  },
  {
   "cell_type": "code",
   "execution_count": 55,
   "metadata": {},
   "outputs": [],
   "source": [
    "# find author names\n",
    "a = []\n",
    "for i in papers1:\n",
    "    authors1 = i.author\n",
    "    a.append(authors1)\n",
    "author_names = a"
   ]
  },
  {
   "cell_type": "code",
   "execution_count": 57,
   "metadata": {},
   "outputs": [],
   "source": [
    "# find the journals\n",
    "j = []\n",
    "for i in papers1:\n",
    "    journals1 = i.pub\n",
    "    j.append(journals1)\n",
    "journals = j"
   ]
  },
  {
   "cell_type": "code",
   "execution_count": 58,
   "metadata": {},
   "outputs": [],
   "source": [
    "# create an initial df\n",
    "df = pd.DataFrame({'Author_Names' : author_names,\n",
    " 'Journal':journals\n",
    "  })"
   ]
  },
  {
   "cell_type": "code",
   "execution_count": 59,
   "metadata": {},
   "outputs": [
    {
     "data": {
      "text/html": [
       "<div>\n",
       "<style scoped>\n",
       "    .dataframe tbody tr th:only-of-type {\n",
       "        vertical-align: middle;\n",
       "    }\n",
       "\n",
       "    .dataframe tbody tr th {\n",
       "        vertical-align: top;\n",
       "    }\n",
       "\n",
       "    .dataframe thead th {\n",
       "        text-align: right;\n",
       "    }\n",
       "</style>\n",
       "<table border=\"1\" class=\"dataframe\">\n",
       "  <thead>\n",
       "    <tr style=\"text-align: right;\">\n",
       "      <th></th>\n",
       "      <th>Journal</th>\n",
       "      <th>Author_Name</th>\n",
       "    </tr>\n",
       "  </thead>\n",
       "  <tbody>\n",
       "    <tr>\n",
       "      <th>0</th>\n",
       "      <td>The Astronomical Journal</td>\n",
       "      <td>Riess, Adam G.</td>\n",
       "    </tr>\n",
       "    <tr>\n",
       "      <th>0</th>\n",
       "      <td>The Astronomical Journal</td>\n",
       "      <td>Filippenko, Alexei V.</td>\n",
       "    </tr>\n",
       "    <tr>\n",
       "      <th>0</th>\n",
       "      <td>The Astronomical Journal</td>\n",
       "      <td>Challis, Peter</td>\n",
       "    </tr>\n",
       "    <tr>\n",
       "      <th>0</th>\n",
       "      <td>The Astronomical Journal</td>\n",
       "      <td>Clocchiatti, Alejandro</td>\n",
       "    </tr>\n",
       "    <tr>\n",
       "      <th>0</th>\n",
       "      <td>The Astronomical Journal</td>\n",
       "      <td>Diercks, Alan</td>\n",
       "    </tr>\n",
       "  </tbody>\n",
       "</table>\n",
       "</div>"
      ],
      "text/plain": [
       "                    Journal             Author_Name\n",
       "0  The Astronomical Journal          Riess, Adam G.\n",
       "0  The Astronomical Journal   Filippenko, Alexei V.\n",
       "0  The Astronomical Journal          Challis, Peter\n",
       "0  The Astronomical Journal  Clocchiatti, Alejandro\n",
       "0  The Astronomical Journal           Diercks, Alan"
      ]
     },
     "execution_count": 59,
     "metadata": {},
     "output_type": "execute_result"
    }
   ],
   "source": [
    "# Expand the df with melt\n",
    "s1 = df.apply(lambda x: pd.Series(x['Author_Names']),axis=1).stack().reset_index(level=1, drop=True)\n",
    "s1.name = 'Author_Name'\n",
    "df_m = df.drop('Author_Names', axis=1).join(s1)\n",
    "df_m.head()"
   ]
  },
  {
   "cell_type": "code",
   "execution_count": 60,
   "metadata": {},
   "outputs": [],
   "source": [
    "author_nodes = pd.DataFrame(df_m.Author_Name.unique(),columns=['Author_Name'])\n",
    "author_nodes['node_type'] = 'Author_Name'\n",
    "journal_nodes = pd.DataFrame(df_m.Journal.unique(), columns=['Journal'])\n",
    "journal_nodes['node_type'] = 'Journal'"
   ]
  },
  {
   "cell_type": "code",
   "execution_count": 61,
   "metadata": {},
   "outputs": [],
   "source": [
    "# Build the graph from the node sets and edges\n",
    "# set bipartite attribute to ensure weighted projection will work\n",
    "a_nodes = list(author_nodes['Author_Name'])\n",
    "j_nodes = list(journal_nodes['Journal'])\n",
    "edge_bunch = [tuple(i) for i in df_m.values]\n",
    "\n",
    "g = nx.Graph()\n",
    "g.add_nodes_from(a_nodes,node_type='Author_Name', bipartite=0)\n",
    "g.add_nodes_from(j_nodes,node_type='Jurnal', bipartite=1)\n",
    "g.add_edges_from(edge_bunch)"
   ]
  },
  {
   "cell_type": "code",
   "execution_count": 62,
   "metadata": {},
   "outputs": [],
   "source": [
    "# Weighted Projections/Clustering\n",
    "# find the largest most connected graph - 200 as cut-off \n",
    "\n",
    "def connected_component_subgraphs(G): # the connected_component_subgraphs attribute is not availble after Networkx 2.4\n",
    "    for c in nx.connected_components(G):\n",
    "        yield G.subgraph(c)\n",
    "\n",
    "big_subg = [i for i in connected_component_subgraphs(g) if len(i) > 200]\n",
    "# Largest:\n",
    "sg_largest = big_subg[0] # largest connected subgraph"
   ]
  },
  {
   "cell_type": "code",
   "execution_count": 63,
   "metadata": {},
   "outputs": [],
   "source": [
    "# weighted_projections can be applied to this subgraph to separate the two components\n",
    "Journals,Author_Names = bi.sets(sg_largest)  # split into bipartites"
   ]
  },
  {
   "cell_type": "code",
   "execution_count": 64,
   "metadata": {},
   "outputs": [],
   "source": [
    "j_proj_sg_largest = bi.weighted_projected_graph(sg_largest, Journals)"
   ]
  },
  {
   "cell_type": "code",
   "execution_count": 65,
   "metadata": {},
   "outputs": [],
   "source": [
    "a_proj_sg_largest = bi.weighted_projected_graph(sg_largest, Author_Names)"
   ]
  },
  {
   "cell_type": "code",
   "execution_count": 66,
   "metadata": {},
   "outputs": [],
   "source": [
    "# Use the Island Method \n",
    "j = j_proj_sg_largest.edges(data=True) \n",
    "a = a_proj_sg_largest.edges(data=True)\n"
   ]
  },
  {
   "cell_type": "code",
   "execution_count": 67,
   "metadata": {},
   "outputs": [
    {
     "name": "stdout",
     "output_type": "stream",
     "text": [
      "3\n",
      "5\n"
     ]
    }
   ],
   "source": [
    "# Find weights in the projections that are greater than 1\n",
    "print(len([i for i in a if i[2]['weight'] > 1]))\n",
    "print(len([i for i in j if i[2]['weight'] > 1]))"
   ]
  },
  {
   "cell_type": "code",
   "execution_count": 68,
   "metadata": {},
   "outputs": [],
   "source": [
    "# With a min threshold of edge weight = 1, find the nodes with strong relationships within the sub-graphs. \n",
    "# tidy (SNAS Ch. 4) function similar to the one presented in Social Network Analysis Chapter 4. \n",
    "def tidy(g, weight):\n",
    "    g_temp = nx.Graph()\n",
    "    edge_bunch2 = [i for i in g.edges(data=True) if i[2]['weight'] > weight]    \n",
    "    g_temp.add_edges_from(edge_bunch2)\n",
    "    return g_temp"
   ]
  },
  {
   "cell_type": "code",
   "execution_count": 69,
   "metadata": {},
   "outputs": [],
   "source": [
    "a_sg_island =  tidy(a_proj_sg_largest, 1)\n",
    "j_sg_island = tidy(j_proj_sg_largest,1)"
   ]
  },
  {
   "cell_type": "markdown",
   "metadata": {},
   "source": [
    "We now have two islands of the projected authors and journals. Examining the degree centrality will help reveal which nodes are the key to the networks."
   ]
  },
  {
   "cell_type": "code",
   "execution_count": 70,
   "metadata": {},
   "outputs": [
    {
     "data": {
      "text/html": [
       "<div>\n",
       "<style scoped>\n",
       "    .dataframe tbody tr th:only-of-type {\n",
       "        vertical-align: middle;\n",
       "    }\n",
       "\n",
       "    .dataframe tbody tr th {\n",
       "        vertical-align: top;\n",
       "    }\n",
       "\n",
       "    .dataframe thead th {\n",
       "        text-align: right;\n",
       "    }\n",
       "</style>\n",
       "<table border=\"1\" class=\"dataframe\">\n",
       "  <thead>\n",
       "    <tr style=\"text-align: right;\">\n",
       "      <th></th>\n",
       "      <th>0</th>\n",
       "    </tr>\n",
       "  </thead>\n",
       "  <tbody>\n",
       "    <tr>\n",
       "      <th>Astronomy and Astrophysics</th>\n",
       "      <td>0.50</td>\n",
       "    </tr>\n",
       "    <tr>\n",
       "      <th>The Astrophysical Journal Supplement Series</th>\n",
       "      <td>0.25</td>\n",
       "    </tr>\n",
       "    <tr>\n",
       "      <th>Physics Letters B</th>\n",
       "      <td>0.25</td>\n",
       "    </tr>\n",
       "    <tr>\n",
       "      <th>Physical Review D</th>\n",
       "      <td>0.25</td>\n",
       "    </tr>\n",
       "    <tr>\n",
       "      <th>The Astrophysical Journal</th>\n",
       "      <td>0.25</td>\n",
       "    </tr>\n",
       "  </tbody>\n",
       "</table>\n",
       "</div>"
      ],
      "text/plain": [
       "                                                0\n",
       "Astronomy and Astrophysics                   0.50\n",
       "The Astrophysical Journal Supplement Series  0.25\n",
       "Physics Letters B                            0.25\n",
       "Physical Review D                            0.25\n",
       "The Astrophysical Journal                    0.25"
      ]
     },
     "execution_count": 70,
     "metadata": {},
     "output_type": "execute_result"
    }
   ],
   "source": [
    "# degree centrality of both island clusters\n",
    "a_degree = nx.degree_centrality(a_sg_island)\n",
    "j_degree = nx.degree_centrality(j_sg_island)\n",
    "pd.DataFrame.from_dict(a_degree,orient='index').sort_values(0,ascending=False).head()"
   ]
  },
  {
   "cell_type": "code",
   "execution_count": 71,
   "metadata": {},
   "outputs": [
    {
     "data": {
      "text/html": [
       "<div>\n",
       "<style scoped>\n",
       "    .dataframe tbody tr th:only-of-type {\n",
       "        vertical-align: middle;\n",
       "    }\n",
       "\n",
       "    .dataframe tbody tr th {\n",
       "        vertical-align: top;\n",
       "    }\n",
       "\n",
       "    .dataframe thead th {\n",
       "        text-align: right;\n",
       "    }\n",
       "</style>\n",
       "<table border=\"1\" class=\"dataframe\">\n",
       "  <thead>\n",
       "    <tr style=\"text-align: right;\">\n",
       "      <th></th>\n",
       "      <th>0</th>\n",
       "    </tr>\n",
       "  </thead>\n",
       "  <tbody>\n",
       "    <tr>\n",
       "      <th>Dvali, Gia</th>\n",
       "      <td>0.333333</td>\n",
       "    </tr>\n",
       "    <tr>\n",
       "      <th>Dimopoulos, Savas</th>\n",
       "      <td>0.333333</td>\n",
       "    </tr>\n",
       "    <tr>\n",
       "      <th>Arkani-Hamed, Nima</th>\n",
       "      <td>0.333333</td>\n",
       "    </tr>\n",
       "    <tr>\n",
       "      <th>Efstathiou, G.</th>\n",
       "      <td>0.166667</td>\n",
       "    </tr>\n",
       "    <tr>\n",
       "      <th>White, S. D. M.</th>\n",
       "      <td>0.166667</td>\n",
       "    </tr>\n",
       "  </tbody>\n",
       "</table>\n",
       "</div>"
      ],
      "text/plain": [
       "                           0\n",
       "Dvali, Gia          0.333333\n",
       "Dimopoulos, Savas   0.333333\n",
       "Arkani-Hamed, Nima  0.333333\n",
       "Efstathiou, G.      0.166667\n",
       "White, S. D. M.     0.166667"
      ]
     },
     "execution_count": 71,
     "metadata": {},
     "output_type": "execute_result"
    }
   ],
   "source": [
    "pd.DataFrame.from_dict(j_degree,orient='index').sort_values(0,ascending=False).head()"
   ]
  },
  {
   "cell_type": "markdown",
   "metadata": {},
   "source": [
    "Now that the islands are isolated, we can subset them into their largest connected subgraphs and do some basic plots."
   ]
  },
  {
   "cell_type": "code",
   "execution_count": 72,
   "metadata": {},
   "outputs": [],
   "source": [
    "# examine the connected subgraphs\n",
    "j_connected = [i for i in connected_component_subgraphs(j_proj_sg_largest) if len(i) > 1]\n",
    "a_connected = [i for i in connected_component_subgraphs(a_proj_sg_largest) if len(i) > 1]"
   ]
  },
  {
   "cell_type": "code",
   "execution_count": 73,
   "metadata": {},
   "outputs": [],
   "source": [
    "# combining the graphs \n",
    "def merge_graph(connected_g):\n",
    "    g = nx.Graph()\n",
    "    for h in connected_g:\n",
    "        g = nx.compose(g,h)\n",
    "    return g\n",
    "\n",
    "a_islands = merge_graph(a_connected)\n",
    "j_islands = merge_graph(j_connected)\n"
   ]
  },
  {
   "cell_type": "code",
   "execution_count": 74,
   "metadata": {},
   "outputs": [
    {
     "data": {
      "image/png": "[encoded data removed]",
      "text/plain": [
       "<Figure size 432x288 with 1 Axes>"
      ]
     },
     "metadata": {},
     "output_type": "display_data"
    }
   ],
   "source": [
    "nx.draw(a_islands)"
   ]
  },
  {
   "cell_type": "code",
   "execution_count": 75,
   "metadata": {},
   "outputs": [
    {
     "data": {
      "image/png": "[encoded data removed]",
      "text/plain": [
       "<Figure size 432x288 with 1 Axes>"
      ]
     },
     "metadata": {},
     "output_type": "display_data"
    }
   ],
   "source": [
    "nx.draw(j_islands)\n",
    "pos=nx.circular_layout(j_islands)"
   ]
  }
 ],
 "metadata": {
  "kernelspec": {
   "display_name": "Python 3",
   "language": "python",
   "name": "python3"
  },
  "language_info": {
   "codemirror_mode": {
    "name": "ipython",
    "version": 3
   },
   "file_extension": ".py",
   "mimetype": "text/x-python",
   "name": "python",
   "nbconvert_exporter": "python",
   "pygments_lexer": "ipython3",
   "version": "3.7.6"
  }
 },
 "nbformat": 4,
 "nbformat_minor": 4
}
