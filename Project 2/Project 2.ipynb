{
 "cells": [
  {
   "cell_type": "markdown",
   "metadata": {},
   "source": [
    "\n",
    "Group members: Abdellah Ait Elmouden, Habib Khan, Priya Shaji, Vijaya Cherukuri"
   ]
  },
  {
   "cell_type": "markdown",
   "metadata": {},
   "source": [
    "The work in this project represent an analysis of affiliations between authors and journals in the 2-mode [NASA Astrophysics Data Systems dataset]. The primary objective of this project is to use clustering techniques (e.g. the island method) to try to find small sub-networks of important authors that are frequently collaborating together. In doing so we can also see which journals stand out as focal points for these types of collaborations."
   ]
  },
  {
   "cell_type": "markdown",
   "metadata": {},
   "source": [
    "### Import Requiered Modules"
   ]
  },
  {
   "cell_type": "code",
   "execution_count": 1,
   "metadata": {},
   "outputs": [],
   "source": [
    "import networkx as nx\n",
    "import os\n",
    "import ads as ads # A Python Module to Interact with NASA’s ADS available here https://ads.readthedocs.io/en/latest/#\n",
    "import matplotlib.pyplot as plt\n",
    "import pandas as pd\n",
    "import ipycytoscape\n",
    "from networkx.algorithms import bipartite as bi"
   ]
  },
  {
   "cell_type": "markdown",
   "metadata": {},
   "source": [
    "### Load the Data and Create the Dataframe\n",
    "\n",
    "We will build a dataset using the NASA Astrophysics Data System (SAO/NASA ADS) API. In order to do that We'll use the environment variables os.environ to store API tokens."
   ]
  },
  {
   "cell_type": "code",
   "execution_count": 2,
   "metadata": {},
   "outputs": [],
   "source": [
    "os.environ[\"ADS_DEV_KEY\"] = \"wNFXZ7f0VQnfStI8zo0rDFNthx5rLJYQhDMm2NFS\" # Store the key in an enviromental variable"
   ]
  },
  {
   "cell_type": "code",
   "execution_count": 3,
   "metadata": {},
   "outputs": [],
   "source": [
    "ads.config.token = 'ADS_DEV_KEY'"
   ]
  },
  {
   "cell_type": "markdown",
   "metadata": {},
   "source": [
    "Now we can Search for papers on ADS. Let's search for the 50 most cited on gravity."
   ]
  },
  {
   "cell_type": "code",
   "execution_count": 4,
   "metadata": {},
   "outputs": [
    {
     "name": "stdout",
     "output_type": "stream",
     "text": [
      "50\n"
     ]
    }
   ],
   "source": [
    "papers = list(ads.SearchQuery(q= \"gravity waves\", sort=\"citation_count\", max_pages=1 )) # \"gravity waves as search keyword\"\n",
    "print(len(papers))"
   ]
  },
  {
   "cell_type": "code",
   "execution_count": 5,
   "metadata": {},
   "outputs": [],
   "source": [
    "# Let's find the author names \n",
    "a = []\n",
    "for i in papers:\n",
    "    authors1 = i.author\n",
    "    a.append(authors1)\n",
    "author_names = a"
   ]
  },
  {
   "cell_type": "code",
   "execution_count": 7,
   "metadata": {},
   "outputs": [],
   "source": [
    "# Let's find the journals\n",
    "j = []\n",
    "for i in papers:\n",
    "    journals1 = i.pub\n",
    "    j.append(journals1)\n",
    "journals = j"
   ]
  },
  {
   "cell_type": "code",
   "execution_count": 8,
   "metadata": {},
   "outputs": [
    {
     "data": {
      "text/html": [
       "<div>\n",
       "<style scoped>\n",
       "    .dataframe tbody tr th:only-of-type {\n",
       "        vertical-align: middle;\n",
       "    }\n",
       "\n",
       "    .dataframe tbody tr th {\n",
       "        vertical-align: top;\n",
       "    }\n",
       "\n",
       "    .dataframe thead th {\n",
       "        text-align: right;\n",
       "    }\n",
       "</style>\n",
       "<table border=\"1\" class=\"dataframe\">\n",
       "  <thead>\n",
       "    <tr style=\"text-align: right;\">\n",
       "      <th></th>\n",
       "      <th>Author_Names</th>\n",
       "      <th>Journal</th>\n",
       "    </tr>\n",
       "  </thead>\n",
       "  <tbody>\n",
       "    <tr>\n",
       "      <th>0</th>\n",
       "      <td>[Spergel, D. N., Bean, R., Doré, O., Nolta, M....</td>\n",
       "      <td>The Astrophysical Journal Supplement Series</td>\n",
       "    </tr>\n",
       "    <tr>\n",
       "      <th>1</th>\n",
       "      <td>[Abbott, B. P., Abbott, R., Abbott, T. D., Abe...</td>\n",
       "      <td>Physical Review Letters</td>\n",
       "    </tr>\n",
       "    <tr>\n",
       "      <th>2</th>\n",
       "      <td>[Komatsu, E., Dunkley, J., Nolta, M. R., Benne...</td>\n",
       "      <td>The Astrophysical Journal Supplement Series</td>\n",
       "    </tr>\n",
       "    <tr>\n",
       "      <th>3</th>\n",
       "      <td>[Spitzer, Lyman]</td>\n",
       "      <td>A Wiley-Interscience Publication</td>\n",
       "    </tr>\n",
       "    <tr>\n",
       "      <th>4</th>\n",
       "      <td>[Abbott, B. P., Abbott, R., Abbott, T. D., Ace...</td>\n",
       "      <td>Physical Review Letters</td>\n",
       "    </tr>\n",
       "  </tbody>\n",
       "</table>\n",
       "</div>"
      ],
      "text/plain": [
       "                                        Author_Names  \\\n",
       "0  [Spergel, D. N., Bean, R., Doré, O., Nolta, M....   \n",
       "1  [Abbott, B. P., Abbott, R., Abbott, T. D., Abe...   \n",
       "2  [Komatsu, E., Dunkley, J., Nolta, M. R., Benne...   \n",
       "3                                   [Spitzer, Lyman]   \n",
       "4  [Abbott, B. P., Abbott, R., Abbott, T. D., Ace...   \n",
       "\n",
       "                                       Journal  \n",
       "0  The Astrophysical Journal Supplement Series  \n",
       "1                      Physical Review Letters  \n",
       "2  The Astrophysical Journal Supplement Series  \n",
       "3             A Wiley-Interscience Publication  \n",
       "4                      Physical Review Letters  "
      ]
     },
     "execution_count": 8,
     "metadata": {},
     "output_type": "execute_result"
    }
   ],
   "source": [
    "# Now we'll create an initial df\n",
    "df = pd.DataFrame({'Author_Names' : author_names,\n",
    " 'Journal':journals\n",
    "  })\n",
    "df.head()"
   ]
  },
  {
   "cell_type": "code",
   "execution_count": 10,
   "metadata": {},
   "outputs": [
    {
     "data": {
      "text/plain": [
       "['The Astrophysical Journal Supplement Series',\n",
       " 'Physical Review Letters',\n",
       " 'A Wiley-Interscience Publication',\n",
       " 'Physics Reports',\n",
       " 'The Astrophysical Journal',\n",
       " 'Physical Review',\n",
       " 'Physics of Fluids',\n",
       " 'Astronomy and Astrophysics',\n",
       " 'Applied Physics B: Lasers and Optics',\n",
       " 'Science',\n",
       " 'The International Series of Monographs on Physics',\n",
       " 'Reviews of Modern Physics',\n",
       " 'Journal of Geophysical Research',\n",
       " 'Canadian Journal of Physics',\n",
       " 'Annual Review of Astronomy and Astrophysics',\n",
       " 'Nature',\n",
       " 'Reviews of Geophysics',\n",
       " 'Proceedings of the Royal Society of London Series A',\n",
       " 'Living Reviews in Relativity',\n",
       " 'Physical Review D',\n",
       " 'Classical and Quantum Gravity',\n",
       " 'Journal of Atmospheric Sciences']"
      ]
     },
     "execution_count": 10,
     "metadata": {},
     "output_type": "execute_result"
    }
   ],
   "source": [
    "# Let's expand the df with melt\n",
    "s1 = df.apply(lambda x: pd.Series(x['Author_Names']),axis=1).stack().reset_index(level=1, drop=True)\n",
    "s1.name = 'Author_Name'\n",
    "df_m = df.drop('Author_Names', axis=1).join(s1)\n",
    "df_m['Journal'].unique().tolist() # To check the list of Journals"
   ]
  },
  {
   "cell_type": "markdown",
   "metadata": {},
   "source": [
    "### Create the Graph"
   ]
  },
  {
   "cell_type": "code",
   "execution_count": 11,
   "metadata": {},
   "outputs": [],
   "source": [
    "author_nodes = pd.DataFrame(df_m.Author_Name.unique(),columns=['Author_Name'])\n",
    "author_nodes['node_type'] = 'Author_Name'\n",
    "journal_nodes = pd.DataFrame(df_m.Journal.unique(), columns=['Journal'])\n",
    "journal_nodes['node_type'] = 'Journal'"
   ]
  },
  {
   "cell_type": "code",
   "execution_count": null,
   "metadata": {},
   "outputs": [],
   "source": [
    "# Build the graph from the node sets and edges\n",
    "# set bipartite attribute to ensure weighted projection will work\n",
    "a_nodes = list(author_nodes['Author_Name'])\n",
    "j_nodes = list(journal_nodes['Journal'])\n",
    "edge_bunch = [tuple(i) for i in df_m.values]\n",
    "\n",
    "g = nx.Graph()\n",
    "g.add_nodes_from(a_nodes,node_type='Author_Name', bipartite=0)\n",
    "g.add_nodes_from(j_nodes,node_type='Journal', bipartite=1)\n",
    "g.add_edges_from(edge_bunch)"
   ]
  },
  {
   "cell_type": "markdown",
   "metadata": {},
   "source": [
    "![2mode](imgs/2mode.png)"
   ]
  },
  {
   "cell_type": "code",
   "execution_count": null,
   "metadata": {},
   "outputs": [],
   "source": [
    "print(nx.info(g))"
   ]
  },
  {
   "cell_type": "code",
   "execution_count": null,
   "metadata": {},
   "outputs": [],
   "source": [
    "#plt.figure(figsize=(14, 10))\n",
    "#nx.draw(g, with_labels=True, node_size=50, node_color=\"skyblue\", node_shape=\"s\", alpha=0.5, linewidths=40)\n",
    "#plt.savefig(\"graph.pdf\")\n",
    "\n",
    "\n"
   ]
  },
  {
   "cell_type": "code",
   "execution_count": 14,
   "metadata": {},
   "outputs": [],
   "source": [
    "# Weighted Projections/Clustering\n",
    "# find the largest most connected graph - 200 as cut-off \n",
    "\n",
    "def connected_component_subgraphs(G): # the connected_component_subgraphs attribute is not availble after Networkx 2.4\n",
    "    for c in nx.connected_components(G):\n",
    "        yield G.subgraph(c)\n",
    "\n",
    "big_subg = [i for i in connected_component_subgraphs(g) if len(i) > 200]\n",
    "# Largest:\n",
    "sg_largest = big_subg[0] # largest connected subgraph"
   ]
  },
  {
   "cell_type": "code",
   "execution_count": 15,
   "metadata": {},
   "outputs": [],
   "source": [
    "# weighted_projections can be applied to this subgraph to separate the two components\n",
    "Journals,Author_Names = bi.sets(sg_largest)  # split into bipartites"
   ]
  },
  {
   "cell_type": "code",
   "execution_count": 17,
   "metadata": {},
   "outputs": [],
   "source": [
    "j_proj_sg_largest = bi.weighted_projected_graph(sg_largest, Journals)"
   ]
  },
  {
   "cell_type": "code",
   "execution_count": 18,
   "metadata": {},
   "outputs": [],
   "source": [
    "a_proj_sg_largest = bi.weighted_projected_graph(sg_largest, Author_Names)"
   ]
  },
  {
   "cell_type": "code",
   "execution_count": 19,
   "metadata": {},
   "outputs": [],
   "source": [
    "# Use the Island Method \n",
    "j = j_proj_sg_largest.edges(data=True) \n",
    "a = a_proj_sg_largest.edges(data=True)\n"
   ]
  },
  {
   "cell_type": "code",
   "execution_count": 20,
   "metadata": {},
   "outputs": [
    {
     "name": "stdout",
     "output_type": "stream",
     "text": [
      "4\n",
      "627326\n"
     ]
    }
   ],
   "source": [
    "# Find weights in the projections that are greater than 1\n",
    "print(len([i for i in a if i[2]['weight'] > 1]))\n",
    "print(len([i for i in j if i[2]['weight'] > 1]))"
   ]
  },
  {
   "cell_type": "code",
   "execution_count": 22,
   "metadata": {},
   "outputs": [],
   "source": [
    "# With a min threshold of edge weight = 1, find the nodes with strong relationships within the sub-graphs. \n",
    "# tidy (SNAS Ch. 4) function similar to the one presented in Social Network Analysis Chapter 4. \n",
    "def tidy(g, weight):\n",
    "    g_temp = nx.Graph()\n",
    "    edge_bunch2 = [i for i in g.edges(data=True) if i[2]['weight'] > weight]    \n",
    "    g_temp.add_edges_from(edge_bunch2)\n",
    "    return g_temp"
   ]
  },
  {
   "cell_type": "code",
   "execution_count": 23,
   "metadata": {},
   "outputs": [],
   "source": [
    "a_sg_island =  tidy(a_proj_sg_largest, 1)\n",
    "j_sg_island = tidy(j_proj_sg_largest,1)"
   ]
  },
  {
   "cell_type": "markdown",
   "metadata": {},
   "source": [
    "We now have two islands of the projected authors and journals. Examining the degree centrality will help reveal which nodes are the key to the networks."
   ]
  },
  {
   "cell_type": "code",
   "execution_count": 24,
   "metadata": {},
   "outputs": [
    {
     "data": {
      "text/html": [
       "<div>\n",
       "<style scoped>\n",
       "    .dataframe tbody tr th:only-of-type {\n",
       "        vertical-align: middle;\n",
       "    }\n",
       "\n",
       "    .dataframe tbody tr th {\n",
       "        vertical-align: top;\n",
       "    }\n",
       "\n",
       "    .dataframe thead th {\n",
       "        text-align: right;\n",
       "    }\n",
       "</style>\n",
       "<table border=\"1\" class=\"dataframe\">\n",
       "  <thead>\n",
       "    <tr style=\"text-align: right;\">\n",
       "      <th></th>\n",
       "      <th>0</th>\n",
       "    </tr>\n",
       "  </thead>\n",
       "  <tbody>\n",
       "    <tr>\n",
       "      <th>Physical Review Letters</th>\n",
       "      <td>1.000000</td>\n",
       "    </tr>\n",
       "    <tr>\n",
       "      <th>Classical and Quantum Gravity</th>\n",
       "      <td>0.666667</td>\n",
       "    </tr>\n",
       "    <tr>\n",
       "      <th>The Astrophysical Journal</th>\n",
       "      <td>0.666667</td>\n",
       "    </tr>\n",
       "    <tr>\n",
       "      <th>Applied Physics B: Lasers and Optics</th>\n",
       "      <td>0.333333</td>\n",
       "    </tr>\n",
       "  </tbody>\n",
       "</table>\n",
       "</div>"
      ],
      "text/plain": [
       "                                             0\n",
       "Physical Review Letters               1.000000\n",
       "Classical and Quantum Gravity         0.666667\n",
       "The Astrophysical Journal             0.666667\n",
       "Applied Physics B: Lasers and Optics  0.333333"
      ]
     },
     "execution_count": 24,
     "metadata": {},
     "output_type": "execute_result"
    }
   ],
   "source": [
    "# degree centrality of both island clusters\n",
    "a_degree = nx.degree_centrality(a_sg_island)\n",
    "j_degree = nx.degree_centrality(j_sg_island)\n",
    "pd.DataFrame.from_dict(a_degree,orient='index').sort_values(0,ascending=False).head()"
   ]
  },
  {
   "cell_type": "code",
   "execution_count": 25,
   "metadata": {},
   "outputs": [
    {
     "data": {
      "text/html": [
       "<div>\n",
       "<style scoped>\n",
       "    .dataframe tbody tr th:only-of-type {\n",
       "        vertical-align: middle;\n",
       "    }\n",
       "\n",
       "    .dataframe tbody tr th {\n",
       "        vertical-align: top;\n",
       "    }\n",
       "\n",
       "    .dataframe thead th {\n",
       "        text-align: right;\n",
       "    }\n",
       "</style>\n",
       "<table border=\"1\" class=\"dataframe\">\n",
       "  <thead>\n",
       "    <tr style=\"text-align: right;\">\n",
       "      <th></th>\n",
       "      <th>0</th>\n",
       "    </tr>\n",
       "  </thead>\n",
       "  <tbody>\n",
       "    <tr>\n",
       "      <th>Loriette, V.</th>\n",
       "      <td>0.998238</td>\n",
       "    </tr>\n",
       "    <tr>\n",
       "      <th>Fidecaro, F.</th>\n",
       "      <td>0.998238</td>\n",
       "    </tr>\n",
       "    <tr>\n",
       "      <th>Prodi, G. A.</th>\n",
       "      <td>0.998238</td>\n",
       "    </tr>\n",
       "    <tr>\n",
       "      <th>Degallaix, J.</th>\n",
       "      <td>0.998238</td>\n",
       "    </tr>\n",
       "    <tr>\n",
       "      <th>Martelli, F.</th>\n",
       "      <td>0.998238</td>\n",
       "    </tr>\n",
       "  </tbody>\n",
       "</table>\n",
       "</div>"
      ],
      "text/plain": [
       "                      0\n",
       "Loriette, V.   0.998238\n",
       "Fidecaro, F.   0.998238\n",
       "Prodi, G. A.   0.998238\n",
       "Degallaix, J.  0.998238\n",
       "Martelli, F.   0.998238"
      ]
     },
     "execution_count": 25,
     "metadata": {},
     "output_type": "execute_result"
    }
   ],
   "source": [
    "pd.DataFrame.from_dict(j_degree,orient='index').sort_values(0,ascending=False).head()"
   ]
  },
  {
   "cell_type": "markdown",
   "metadata": {},
   "source": [
    "Now that the islands are isolated, we can subset them into their largest connected subgraphs and do some basic plots."
   ]
  },
  {
   "cell_type": "code",
   "execution_count": 26,
   "metadata": {},
   "outputs": [],
   "source": [
    "# examine the connected subgraphs\n",
    "j_connected = [i for i in connected_component_subgraphs(j_proj_sg_largest) if len(i) > 1]\n",
    "a_connected = [i for i in connected_component_subgraphs(a_proj_sg_largest) if len(i) > 1]"
   ]
  },
  {
   "cell_type": "code",
   "execution_count": 27,
   "metadata": {},
   "outputs": [],
   "source": [
    "# combining the graphs \n",
    "def merge_graph(connected_g):\n",
    "    g = nx.Graph()\n",
    "    for h in connected_g:\n",
    "        g = nx.compose(g,h)\n",
    "    return g\n",
    "\n",
    "a_islands = merge_graph(a_connected)\n",
    "j_islands = merge_graph(j_connected)\n"
   ]
  },
  {
   "cell_type": "code",
   "execution_count": null,
   "metadata": {},
   "outputs": [],
   "source": [
    "nx.draw(j_islands, with_labels=True)"
   ]
  },
  {
   "cell_type": "code",
   "execution_count": 34,
   "metadata": {},
   "outputs": [
    {
     "data": {
      "application/vnd.jupyter.widget-view+json": {
       "model_id": "44c07d35f1784af2ab04181f44c419fd",
       "version_major": 2,
       "version_minor": 0
      },
      "text/plain": [
       "CytoscapeWidget(cytoscape_layout={'name': 'cola'}, cytoscape_style=[{'selector': 'node', 'css': {'content': 'a…"
      ]
     },
     "metadata": {},
     "output_type": "display_data"
    }
   ],
   "source": [
    "#plt.figure(figsize=(14, 10))\n",
    "#nx.draw(a_islands, with_labels=True, node_size=100, node_color=\"skyblue\", node_shape=\"s\", alpha=0.8, linewidths=40)\n",
    "\n",
    "island = ipycytoscape.CytoscapeWidget()\n",
    "island.graph.add_graph_from_networkx(a_islands)\n",
    "\n",
    "island.set_style([{\n",
    "                        'selector': 'node',\n",
    "                        'css': {\n",
    "                            'content': 'a_islands(authors)',\n",
    "                            'text-valign': 'center',\n",
    "                            'color': 'white',\n",
    "                            'text-outline-width': 2,\n",
    "                            'text-outline-color': 'green',\n",
    "                            'background-color': 'green'\n",
    "                        }\n",
    "                        }])\n",
    "\n",
    "island"
   ]
  },
  {
   "cell_type": "code",
   "execution_count": 150,
   "metadata": {},
   "outputs": [
    {
     "data": {
      "image/png": "[encoded data removed]",
      "text/plain": [
       "<Figure size 1008x720 with 1 Axes>"
      ]
     },
     "metadata": {},
     "output_type": "display_data"
    }
   ],
   "source": [
    "plt.figure(figsize=(14, 10))\n",
    "nx.draw(j_islands, node_size=5, node_color=\"y\", alpha=0.8, linewidths=5)\n",
    "pos=nx.circular_layout(j_islands)"
   ]
  }
 ],
 "metadata": {
  "kernelspec": {
   "display_name": "Python 3",
   "language": "python",
   "name": "python3"
  },
  "language_info": {
   "codemirror_mode": {
    "name": "ipython",
    "version": 3
   },
   "file_extension": ".py",
   "mimetype": "text/x-python",
   "name": "python",
   "nbconvert_exporter": "python",
   "pygments_lexer": "ipython3",
   "version": "3.7.6"
  }
 },
 "nbformat": 4,
 "nbformat_minor": 4
}
