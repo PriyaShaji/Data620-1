{
 "cells": [
  {
   "cell_type": "markdown",
   "metadata": {},
   "source": [
    "## Data620 - FINAL PROJECT \n",
    "\n",
    "**Group Memebers : Vijaya Cherukuri, Abdellah Ait Elmouden, Priya Shaji, Habib Khan**\n",
    "\n",
    "### Introduction\n",
    "\n",
    "Social  networks  are  the  main  resources  to  gather information   about   people’s   opinion   and   sentiments   towards different  topics  as  they  spend  hours  daily  on social  media and share   their   opinion. In   this   project   we   show   the application of sentimental analysis and how to connect to Twitter and  run  sentiment analysis  queries, based on News Topics during COVID-19.\n",
    "\n",
    "### Motivation\n",
    "\n",
    "Six months since the first COVID-19 case in the United States, and 113+ days into the earliest Lockdown Order of New York City, now the city reopen the time some other states see coronavirus cases rise. how have people been feeling through this special time? Do we know how others are responding to the pandemic? The Corona Virus endangers our physical health indeed, but alongside, social distancing also poses a threat to our emotional stability. Thus, it is crucial to understand public sentiments under COVID-19. To analyze these we'll use Sentiment Analysis on tweets to aid the understanding of sentiment trends.\n",
    "\n",
    "As of now Covid-19 is one of the top trending topics. Presently it stands in 7th position in the twitter hot topics.\n",
    "\n",
    "![alt text](Twittertrend.png)\n",
    "\n",
    "### Data Source\n",
    "\n",
    "We will be using the Twitter API, as our tool to collect data for this analysis. Twitter is a gold mine of data. Unlike other social platforms, almost every user’s tweets are completely public and pullable. This is a huge plus if you’re trying to get a large amount of data to run analytics on.\n",
    "\n",
    "![alt text](twitter.png)"
   ]
  },
  {
   "cell_type": "markdown",
   "metadata": {},
   "source": [
    "### Sentiment Analysis\n",
    "\n",
    "Note: Results will differ each time the program runs as Network and Sentiment analysis is done in a dynamic dataset."
   ]
  },
  {
   "cell_type": "markdown",
   "metadata": {},
   "source": [
    "Import required Libraries"
   ]
  },
  {
   "cell_type": "code",
   "execution_count": 27,
   "metadata": {},
   "outputs": [],
   "source": [
    "#import nltk\n",
    "#nltk.download('vader_lexicon')\n",
    "#pip install tweepy\n",
    "#pip install textblob\n",
    "\n",
    "#from nltk.corpus import stopwords\n",
    "#from nltk.stem.wordnet import WordNetLemmatizer\n",
    "#from sklearn.feature_extraction.text import CountVectorizer, TfidfTransformer\n",
    "#import nltk\n",
    "#nltk.download('wordnet')\n",
    "\n",
    "import pandas as pd\n",
    "import re\n",
    "import textblob\n",
    "from textblob import TextBlob\n",
    "import seaborn as sns\n",
    "import matplotlib.pyplot as plt\n",
    "from wordcloud import WordCloud, STOPWORDS \n",
    "import nltk\n",
    "import tweepy\n",
    "from nltk.sentiment.vader import SentimentIntensityAnalyzer \n",
    "#nltk.download('vader_lexicon')\n",
    "sid = SentimentIntensityAnalyzer()\n",
    "import warnings\n",
    "warnings.filterwarnings('ignore')"
   ]
  },
  {
   "cell_type": "markdown",
   "metadata": {},
   "source": [
    "Connect to Twitter using 'consumer key', 'consumer secret', 'access token', 'access token secret'"
   ]
  },
  {
   "cell_type": "code",
   "execution_count": 28,
   "metadata": {},
   "outputs": [],
   "source": [
    "consumer_key='lub2vXiqJXY5JVYTtxaQWvshE'\n",
    "consumer_secret='o4tRCRf1YWo1WdrQzx1xNhuSvOIshguPZNx86U9UVCaNzsLPEF'\n",
    "access_token='165276006-rCCM1Nt4txkpxMa01RJLUuq7WrF9sREqxHFApiUm'\n",
    "access_token_secret='lf2SmfrfrIBd2aiYmq24oPfXVlZSLBamJDEMjM5eHtvkE'"
   ]
  },
  {
   "cell_type": "markdown",
   "metadata": {},
   "source": [
    "Set API path"
   ]
  },
  {
   "cell_type": "code",
   "execution_count": 29,
   "metadata": {},
   "outputs": [],
   "source": [
    "auth =  tweepy.OAuthHandler(consumer_key, consumer_secret)\n",
    "auth.set_access_token(access_token, access_token_secret)\n",
    "api = tweepy.API(auth)\n",
    "public_tweets = api.search('Covid_19')"
   ]
  },
  {
   "cell_type": "markdown",
   "metadata": {},
   "source": [
    "Search for tweets related to Covid "
   ]
  },
  {
   "cell_type": "code",
   "execution_count": 30,
   "metadata": {},
   "outputs": [],
   "source": [
    "\n",
    "search_term = \"#Covid -filter:retweets\"\n",
    "\n",
    "tweets = tweepy.Cursor(api.search,\n",
    "                   q=search_term,\n",
    "                   lang=\"en\",\n",
    "                   since='2020-03-25').items(1000)"
   ]
  },
  {
   "cell_type": "markdown",
   "metadata": {},
   "source": [
    "Convert twitter data into a dataframe"
   ]
  },
  {
   "cell_type": "code",
   "execution_count": 31,
   "metadata": {},
   "outputs": [],
   "source": [
    "\n",
    "json_data = [r._json for r in tweets]\n",
    "df = pd.io.json.json_normalize(json_data)\n"
   ]
  },
  {
   "cell_type": "markdown",
   "metadata": {},
   "source": [
    "Analyze the dataset"
   ]
  },
  {
   "cell_type": "code",
   "execution_count": 32,
   "metadata": {},
   "outputs": [
    {
     "data": {
      "text/html": [
       "<div>\n",
       "<style scoped>\n",
       "    .dataframe tbody tr th:only-of-type {\n",
       "        vertical-align: middle;\n",
       "    }\n",
       "\n",
       "    .dataframe tbody tr th {\n",
       "        vertical-align: top;\n",
       "    }\n",
       "\n",
       "    .dataframe thead th {\n",
       "        text-align: right;\n",
       "    }\n",
       "</style>\n",
       "<table border=\"1\" class=\"dataframe\">\n",
       "  <thead>\n",
       "    <tr style=\"text-align: right;\">\n",
       "      <th></th>\n",
       "      <th>created_at</th>\n",
       "      <th>id</th>\n",
       "      <th>id_str</th>\n",
       "      <th>text</th>\n",
       "      <th>truncated</th>\n",
       "      <th>source</th>\n",
       "      <th>in_reply_to_status_id</th>\n",
       "      <th>in_reply_to_status_id_str</th>\n",
       "      <th>in_reply_to_user_id</th>\n",
       "      <th>in_reply_to_user_id_str</th>\n",
       "      <th>...</th>\n",
       "      <th>quoted_status.place.id</th>\n",
       "      <th>quoted_status.place.url</th>\n",
       "      <th>quoted_status.place.place_type</th>\n",
       "      <th>quoted_status.place.name</th>\n",
       "      <th>quoted_status.place.full_name</th>\n",
       "      <th>quoted_status.place.country_code</th>\n",
       "      <th>quoted_status.place.country</th>\n",
       "      <th>quoted_status.place.contained_within</th>\n",
       "      <th>quoted_status.place.bounding_box.type</th>\n",
       "      <th>quoted_status.place.bounding_box.coordinates</th>\n",
       "    </tr>\n",
       "  </thead>\n",
       "  <tbody>\n",
       "    <tr>\n",
       "      <th>0</th>\n",
       "      <td>Sun Jul 19 15:53:27 +0000 2020</td>\n",
       "      <td>1284879030676787201</td>\n",
       "      <td>1284879030676787201</td>\n",
       "      <td>THIS IS WHY the rush to open schools and the e...</td>\n",
       "      <td>True</td>\n",
       "      <td>&lt;a href=\"http://twitter.com/download/iphone\" r...</td>\n",
       "      <td>NaN</td>\n",
       "      <td>None</td>\n",
       "      <td>NaN</td>\n",
       "      <td>None</td>\n",
       "      <td>...</td>\n",
       "      <td>NaN</td>\n",
       "      <td>NaN</td>\n",
       "      <td>NaN</td>\n",
       "      <td>NaN</td>\n",
       "      <td>NaN</td>\n",
       "      <td>NaN</td>\n",
       "      <td>NaN</td>\n",
       "      <td>NaN</td>\n",
       "      <td>NaN</td>\n",
       "      <td>NaN</td>\n",
       "    </tr>\n",
       "    <tr>\n",
       "      <th>1</th>\n",
       "      <td>Sun Jul 19 15:53:27 +0000 2020</td>\n",
       "      <td>1284879030525874177</td>\n",
       "      <td>1284879030525874177</td>\n",
       "      <td>#Restaurants in these #COVID times should do #...</td>\n",
       "      <td>True</td>\n",
       "      <td>&lt;a href=\"https://mobile.twitter.com\" rel=\"nofo...</td>\n",
       "      <td>NaN</td>\n",
       "      <td>None</td>\n",
       "      <td>NaN</td>\n",
       "      <td>None</td>\n",
       "      <td>...</td>\n",
       "      <td>NaN</td>\n",
       "      <td>NaN</td>\n",
       "      <td>NaN</td>\n",
       "      <td>NaN</td>\n",
       "      <td>NaN</td>\n",
       "      <td>NaN</td>\n",
       "      <td>NaN</td>\n",
       "      <td>NaN</td>\n",
       "      <td>NaN</td>\n",
       "      <td>NaN</td>\n",
       "    </tr>\n",
       "    <tr>\n",
       "      <th>2</th>\n",
       "      <td>Sun Jul 19 15:52:58 +0000 2020</td>\n",
       "      <td>1284878908442185730</td>\n",
       "      <td>1284878908442185730</td>\n",
       "      <td>Radiate #Covid ?  https://t.co/FkjrIHLhwS</td>\n",
       "      <td>False</td>\n",
       "      <td>&lt;a href=\"https://mobile.twitter.com\" rel=\"nofo...</td>\n",
       "      <td>NaN</td>\n",
       "      <td>None</td>\n",
       "      <td>NaN</td>\n",
       "      <td>None</td>\n",
       "      <td>...</td>\n",
       "      <td>NaN</td>\n",
       "      <td>NaN</td>\n",
       "      <td>NaN</td>\n",
       "      <td>NaN</td>\n",
       "      <td>NaN</td>\n",
       "      <td>NaN</td>\n",
       "      <td>NaN</td>\n",
       "      <td>NaN</td>\n",
       "      <td>NaN</td>\n",
       "      <td>NaN</td>\n",
       "    </tr>\n",
       "    <tr>\n",
       "      <th>3</th>\n",
       "      <td>Sun Jul 19 15:52:56 +0000 2020</td>\n",
       "      <td>1284878899545911297</td>\n",
       "      <td>1284878899545911297</td>\n",
       "      <td>Excuse me!!\\n#listen #Covid_19 #covid #school ...</td>\n",
       "      <td>False</td>\n",
       "      <td>&lt;a href=\"http://twitter.com/download/android\" ...</td>\n",
       "      <td>NaN</td>\n",
       "      <td>None</td>\n",
       "      <td>NaN</td>\n",
       "      <td>None</td>\n",
       "      <td>...</td>\n",
       "      <td>NaN</td>\n",
       "      <td>NaN</td>\n",
       "      <td>NaN</td>\n",
       "      <td>NaN</td>\n",
       "      <td>NaN</td>\n",
       "      <td>NaN</td>\n",
       "      <td>NaN</td>\n",
       "      <td>NaN</td>\n",
       "      <td>NaN</td>\n",
       "      <td>NaN</td>\n",
       "    </tr>\n",
       "    <tr>\n",
       "      <th>4</th>\n",
       "      <td>Sun Jul 19 15:52:52 +0000 2020</td>\n",
       "      <td>1284878882827653120</td>\n",
       "      <td>1284878882827653120</td>\n",
       "      <td>No matter which side of the aisle ur on this @...</td>\n",
       "      <td>True</td>\n",
       "      <td>&lt;a href=\"http://twitter.com/download/iphone\" r...</td>\n",
       "      <td>NaN</td>\n",
       "      <td>None</td>\n",
       "      <td>NaN</td>\n",
       "      <td>None</td>\n",
       "      <td>...</td>\n",
       "      <td>NaN</td>\n",
       "      <td>NaN</td>\n",
       "      <td>NaN</td>\n",
       "      <td>NaN</td>\n",
       "      <td>NaN</td>\n",
       "      <td>NaN</td>\n",
       "      <td>NaN</td>\n",
       "      <td>NaN</td>\n",
       "      <td>NaN</td>\n",
       "      <td>NaN</td>\n",
       "    </tr>\n",
       "  </tbody>\n",
       "</table>\n",
       "<p>5 rows × 174 columns</p>\n",
       "</div>"
      ],
      "text/plain": [
       "                       created_at                   id               id_str  \\\n",
       "0  Sun Jul 19 15:53:27 +0000 2020  1284879030676787201  1284879030676787201   \n",
       "1  Sun Jul 19 15:53:27 +0000 2020  1284879030525874177  1284879030525874177   \n",
       "2  Sun Jul 19 15:52:58 +0000 2020  1284878908442185730  1284878908442185730   \n",
       "3  Sun Jul 19 15:52:56 +0000 2020  1284878899545911297  1284878899545911297   \n",
       "4  Sun Jul 19 15:52:52 +0000 2020  1284878882827653120  1284878882827653120   \n",
       "\n",
       "                                                text  truncated  \\\n",
       "0  THIS IS WHY the rush to open schools and the e...       True   \n",
       "1  #Restaurants in these #COVID times should do #...       True   \n",
       "2          Radiate #Covid ?  https://t.co/FkjrIHLhwS      False   \n",
       "3  Excuse me!!\\n#listen #Covid_19 #covid #school ...      False   \n",
       "4  No matter which side of the aisle ur on this @...       True   \n",
       "\n",
       "                                              source  in_reply_to_status_id  \\\n",
       "0  <a href=\"http://twitter.com/download/iphone\" r...                    NaN   \n",
       "1  <a href=\"https://mobile.twitter.com\" rel=\"nofo...                    NaN   \n",
       "2  <a href=\"https://mobile.twitter.com\" rel=\"nofo...                    NaN   \n",
       "3  <a href=\"http://twitter.com/download/android\" ...                    NaN   \n",
       "4  <a href=\"http://twitter.com/download/iphone\" r...                    NaN   \n",
       "\n",
       "  in_reply_to_status_id_str  in_reply_to_user_id in_reply_to_user_id_str  ...  \\\n",
       "0                      None                  NaN                    None  ...   \n",
       "1                      None                  NaN                    None  ...   \n",
       "2                      None                  NaN                    None  ...   \n",
       "3                      None                  NaN                    None  ...   \n",
       "4                      None                  NaN                    None  ...   \n",
       "\n",
       "  quoted_status.place.id  quoted_status.place.url  \\\n",
       "0                    NaN                      NaN   \n",
       "1                    NaN                      NaN   \n",
       "2                    NaN                      NaN   \n",
       "3                    NaN                      NaN   \n",
       "4                    NaN                      NaN   \n",
       "\n",
       "   quoted_status.place.place_type  quoted_status.place.name  \\\n",
       "0                             NaN                       NaN   \n",
       "1                             NaN                       NaN   \n",
       "2                             NaN                       NaN   \n",
       "3                             NaN                       NaN   \n",
       "4                             NaN                       NaN   \n",
       "\n",
       "  quoted_status.place.full_name  quoted_status.place.country_code  \\\n",
       "0                           NaN                               NaN   \n",
       "1                           NaN                               NaN   \n",
       "2                           NaN                               NaN   \n",
       "3                           NaN                               NaN   \n",
       "4                           NaN                               NaN   \n",
       "\n",
       "   quoted_status.place.country  quoted_status.place.contained_within  \\\n",
       "0                          NaN                                   NaN   \n",
       "1                          NaN                                   NaN   \n",
       "2                          NaN                                   NaN   \n",
       "3                          NaN                                   NaN   \n",
       "4                          NaN                                   NaN   \n",
       "\n",
       "   quoted_status.place.bounding_box.type  \\\n",
       "0                                    NaN   \n",
       "1                                    NaN   \n",
       "2                                    NaN   \n",
       "3                                    NaN   \n",
       "4                                    NaN   \n",
       "\n",
       "   quoted_status.place.bounding_box.coordinates  \n",
       "0                                           NaN  \n",
       "1                                           NaN  \n",
       "2                                           NaN  \n",
       "3                                           NaN  \n",
       "4                                           NaN  \n",
       "\n",
       "[5 rows x 174 columns]"
      ]
     },
     "execution_count": 32,
     "metadata": {},
     "output_type": "execute_result"
    }
   ],
   "source": [
    "df.head()"
   ]
  },
  {
   "cell_type": "markdown",
   "metadata": {},
   "source": [
    "In order to do Sentiment anaysis on the dataframe, we will keep only one column \"texts\" an drop other columns not required for sentiment analysis"
   ]
  },
  {
   "cell_type": "markdown",
   "metadata": {},
   "source": [
    "Create a new column 'Tweets' "
   ]
  },
  {
   "cell_type": "code",
   "execution_count": 33,
   "metadata": {},
   "outputs": [],
   "source": [
    "\n",
    "df['Tweets'] = df['text']"
   ]
  },
  {
   "cell_type": "markdown",
   "metadata": {},
   "source": [
    "Create a new dataframe object \"df_SentimentAnalysis\" to preserve the original dataset \"df\" "
   ]
  },
  {
   "cell_type": "code",
   "execution_count": 34,
   "metadata": {},
   "outputs": [
    {
     "data": {
      "text/html": [
       "<div>\n",
       "<style scoped>\n",
       "    .dataframe tbody tr th:only-of-type {\n",
       "        vertical-align: middle;\n",
       "    }\n",
       "\n",
       "    .dataframe tbody tr th {\n",
       "        vertical-align: top;\n",
       "    }\n",
       "\n",
       "    .dataframe thead th {\n",
       "        text-align: right;\n",
       "    }\n",
       "</style>\n",
       "<table border=\"1\" class=\"dataframe\">\n",
       "  <thead>\n",
       "    <tr style=\"text-align: right;\">\n",
       "      <th></th>\n",
       "      <th>created_at</th>\n",
       "      <th>id</th>\n",
       "      <th>id_str</th>\n",
       "      <th>text</th>\n",
       "      <th>truncated</th>\n",
       "      <th>source</th>\n",
       "      <th>in_reply_to_status_id</th>\n",
       "      <th>in_reply_to_status_id_str</th>\n",
       "      <th>in_reply_to_user_id</th>\n",
       "      <th>in_reply_to_user_id_str</th>\n",
       "      <th>...</th>\n",
       "      <th>quoted_status.place.url</th>\n",
       "      <th>quoted_status.place.place_type</th>\n",
       "      <th>quoted_status.place.name</th>\n",
       "      <th>quoted_status.place.full_name</th>\n",
       "      <th>quoted_status.place.country_code</th>\n",
       "      <th>quoted_status.place.country</th>\n",
       "      <th>quoted_status.place.contained_within</th>\n",
       "      <th>quoted_status.place.bounding_box.type</th>\n",
       "      <th>quoted_status.place.bounding_box.coordinates</th>\n",
       "      <th>Tweets</th>\n",
       "    </tr>\n",
       "  </thead>\n",
       "  <tbody>\n",
       "    <tr>\n",
       "      <th>0</th>\n",
       "      <td>Sun Jul 19 15:53:27 +0000 2020</td>\n",
       "      <td>1284879030676787201</td>\n",
       "      <td>1284879030676787201</td>\n",
       "      <td>THIS IS WHY the rush to open schools and the e...</td>\n",
       "      <td>True</td>\n",
       "      <td>&lt;a href=\"http://twitter.com/download/iphone\" r...</td>\n",
       "      <td>NaN</td>\n",
       "      <td>None</td>\n",
       "      <td>NaN</td>\n",
       "      <td>None</td>\n",
       "      <td>...</td>\n",
       "      <td>NaN</td>\n",
       "      <td>NaN</td>\n",
       "      <td>NaN</td>\n",
       "      <td>NaN</td>\n",
       "      <td>NaN</td>\n",
       "      <td>NaN</td>\n",
       "      <td>NaN</td>\n",
       "      <td>NaN</td>\n",
       "      <td>NaN</td>\n",
       "      <td>THIS IS WHY the rush to open schools and the e...</td>\n",
       "    </tr>\n",
       "    <tr>\n",
       "      <th>1</th>\n",
       "      <td>Sun Jul 19 15:53:27 +0000 2020</td>\n",
       "      <td>1284879030525874177</td>\n",
       "      <td>1284879030525874177</td>\n",
       "      <td>#Restaurants in these #COVID times should do #...</td>\n",
       "      <td>True</td>\n",
       "      <td>&lt;a href=\"https://mobile.twitter.com\" rel=\"nofo...</td>\n",
       "      <td>NaN</td>\n",
       "      <td>None</td>\n",
       "      <td>NaN</td>\n",
       "      <td>None</td>\n",
       "      <td>...</td>\n",
       "      <td>NaN</td>\n",
       "      <td>NaN</td>\n",
       "      <td>NaN</td>\n",
       "      <td>NaN</td>\n",
       "      <td>NaN</td>\n",
       "      <td>NaN</td>\n",
       "      <td>NaN</td>\n",
       "      <td>NaN</td>\n",
       "      <td>NaN</td>\n",
       "      <td>#Restaurants in these #COVID times should do #...</td>\n",
       "    </tr>\n",
       "    <tr>\n",
       "      <th>2</th>\n",
       "      <td>Sun Jul 19 15:52:58 +0000 2020</td>\n",
       "      <td>1284878908442185730</td>\n",
       "      <td>1284878908442185730</td>\n",
       "      <td>Radiate #Covid ?  https://t.co/FkjrIHLhwS</td>\n",
       "      <td>False</td>\n",
       "      <td>&lt;a href=\"https://mobile.twitter.com\" rel=\"nofo...</td>\n",
       "      <td>NaN</td>\n",
       "      <td>None</td>\n",
       "      <td>NaN</td>\n",
       "      <td>None</td>\n",
       "      <td>...</td>\n",
       "      <td>NaN</td>\n",
       "      <td>NaN</td>\n",
       "      <td>NaN</td>\n",
       "      <td>NaN</td>\n",
       "      <td>NaN</td>\n",
       "      <td>NaN</td>\n",
       "      <td>NaN</td>\n",
       "      <td>NaN</td>\n",
       "      <td>NaN</td>\n",
       "      <td>Radiate #Covid ?  https://t.co/FkjrIHLhwS</td>\n",
       "    </tr>\n",
       "    <tr>\n",
       "      <th>3</th>\n",
       "      <td>Sun Jul 19 15:52:56 +0000 2020</td>\n",
       "      <td>1284878899545911297</td>\n",
       "      <td>1284878899545911297</td>\n",
       "      <td>Excuse me!!\\n#listen #Covid_19 #covid #school ...</td>\n",
       "      <td>False</td>\n",
       "      <td>&lt;a href=\"http://twitter.com/download/android\" ...</td>\n",
       "      <td>NaN</td>\n",
       "      <td>None</td>\n",
       "      <td>NaN</td>\n",
       "      <td>None</td>\n",
       "      <td>...</td>\n",
       "      <td>NaN</td>\n",
       "      <td>NaN</td>\n",
       "      <td>NaN</td>\n",
       "      <td>NaN</td>\n",
       "      <td>NaN</td>\n",
       "      <td>NaN</td>\n",
       "      <td>NaN</td>\n",
       "      <td>NaN</td>\n",
       "      <td>NaN</td>\n",
       "      <td>Excuse me!!\\n#listen #Covid_19 #covid #school ...</td>\n",
       "    </tr>\n",
       "    <tr>\n",
       "      <th>4</th>\n",
       "      <td>Sun Jul 19 15:52:52 +0000 2020</td>\n",
       "      <td>1284878882827653120</td>\n",
       "      <td>1284878882827653120</td>\n",
       "      <td>No matter which side of the aisle ur on this @...</td>\n",
       "      <td>True</td>\n",
       "      <td>&lt;a href=\"http://twitter.com/download/iphone\" r...</td>\n",
       "      <td>NaN</td>\n",
       "      <td>None</td>\n",
       "      <td>NaN</td>\n",
       "      <td>None</td>\n",
       "      <td>...</td>\n",
       "      <td>NaN</td>\n",
       "      <td>NaN</td>\n",
       "      <td>NaN</td>\n",
       "      <td>NaN</td>\n",
       "      <td>NaN</td>\n",
       "      <td>NaN</td>\n",
       "      <td>NaN</td>\n",
       "      <td>NaN</td>\n",
       "      <td>NaN</td>\n",
       "      <td>No matter which side of the aisle ur on this @...</td>\n",
       "    </tr>\n",
       "  </tbody>\n",
       "</table>\n",
       "<p>5 rows × 175 columns</p>\n",
       "</div>"
      ],
      "text/plain": [
       "                       created_at                   id               id_str  \\\n",
       "0  Sun Jul 19 15:53:27 +0000 2020  1284879030676787201  1284879030676787201   \n",
       "1  Sun Jul 19 15:53:27 +0000 2020  1284879030525874177  1284879030525874177   \n",
       "2  Sun Jul 19 15:52:58 +0000 2020  1284878908442185730  1284878908442185730   \n",
       "3  Sun Jul 19 15:52:56 +0000 2020  1284878899545911297  1284878899545911297   \n",
       "4  Sun Jul 19 15:52:52 +0000 2020  1284878882827653120  1284878882827653120   \n",
       "\n",
       "                                                text  truncated  \\\n",
       "0  THIS IS WHY the rush to open schools and the e...       True   \n",
       "1  #Restaurants in these #COVID times should do #...       True   \n",
       "2          Radiate #Covid ?  https://t.co/FkjrIHLhwS      False   \n",
       "3  Excuse me!!\\n#listen #Covid_19 #covid #school ...      False   \n",
       "4  No matter which side of the aisle ur on this @...       True   \n",
       "\n",
       "                                              source  in_reply_to_status_id  \\\n",
       "0  <a href=\"http://twitter.com/download/iphone\" r...                    NaN   \n",
       "1  <a href=\"https://mobile.twitter.com\" rel=\"nofo...                    NaN   \n",
       "2  <a href=\"https://mobile.twitter.com\" rel=\"nofo...                    NaN   \n",
       "3  <a href=\"http://twitter.com/download/android\" ...                    NaN   \n",
       "4  <a href=\"http://twitter.com/download/iphone\" r...                    NaN   \n",
       "\n",
       "  in_reply_to_status_id_str  in_reply_to_user_id in_reply_to_user_id_str  ...  \\\n",
       "0                      None                  NaN                    None  ...   \n",
       "1                      None                  NaN                    None  ...   \n",
       "2                      None                  NaN                    None  ...   \n",
       "3                      None                  NaN                    None  ...   \n",
       "4                      None                  NaN                    None  ...   \n",
       "\n",
       "  quoted_status.place.url  quoted_status.place.place_type  \\\n",
       "0                     NaN                             NaN   \n",
       "1                     NaN                             NaN   \n",
       "2                     NaN                             NaN   \n",
       "3                     NaN                             NaN   \n",
       "4                     NaN                             NaN   \n",
       "\n",
       "   quoted_status.place.name  quoted_status.place.full_name  \\\n",
       "0                       NaN                            NaN   \n",
       "1                       NaN                            NaN   \n",
       "2                       NaN                            NaN   \n",
       "3                       NaN                            NaN   \n",
       "4                       NaN                            NaN   \n",
       "\n",
       "  quoted_status.place.country_code  quoted_status.place.country  \\\n",
       "0                              NaN                          NaN   \n",
       "1                              NaN                          NaN   \n",
       "2                              NaN                          NaN   \n",
       "3                              NaN                          NaN   \n",
       "4                              NaN                          NaN   \n",
       "\n",
       "   quoted_status.place.contained_within  \\\n",
       "0                                   NaN   \n",
       "1                                   NaN   \n",
       "2                                   NaN   \n",
       "3                                   NaN   \n",
       "4                                   NaN   \n",
       "\n",
       "   quoted_status.place.bounding_box.type  \\\n",
       "0                                    NaN   \n",
       "1                                    NaN   \n",
       "2                                    NaN   \n",
       "3                                    NaN   \n",
       "4                                    NaN   \n",
       "\n",
       "   quoted_status.place.bounding_box.coordinates  \\\n",
       "0                                           NaN   \n",
       "1                                           NaN   \n",
       "2                                           NaN   \n",
       "3                                           NaN   \n",
       "4                                           NaN   \n",
       "\n",
       "                                              Tweets  \n",
       "0  THIS IS WHY the rush to open schools and the e...  \n",
       "1  #Restaurants in these #COVID times should do #...  \n",
       "2          Radiate #Covid ?  https://t.co/FkjrIHLhwS  \n",
       "3  Excuse me!!\\n#listen #Covid_19 #covid #school ...  \n",
       "4  No matter which side of the aisle ur on this @...  \n",
       "\n",
       "[5 rows x 175 columns]"
      ]
     },
     "execution_count": 34,
     "metadata": {},
     "output_type": "execute_result"
    }
   ],
   "source": [
    "\n",
    "df_SentimentAnalysis = df\n",
    "\n",
    "df_SentimentAnalysis.head() ## added new column \"Tweets\""
   ]
  },
  {
   "cell_type": "markdown",
   "metadata": {},
   "source": [
    "Drop all other columns except \"Tweets\" for sentiment analysis"
   ]
  },
  {
   "cell_type": "code",
   "execution_count": 35,
   "metadata": {},
   "outputs": [],
   "source": [
    "drop_list = [\"Tweets\"]\n",
    "df_SentimentAnalysis = df_SentimentAnalysis.drop(df_SentimentAnalysis.columns.difference(drop_list), axis=1)"
   ]
  },
  {
   "cell_type": "markdown",
   "metadata": {},
   "source": [
    "Analyze the dataset"
   ]
  },
  {
   "cell_type": "code",
   "execution_count": 36,
   "metadata": {},
   "outputs": [
    {
     "data": {
      "text/html": [
       "<div>\n",
       "<style scoped>\n",
       "    .dataframe tbody tr th:only-of-type {\n",
       "        vertical-align: middle;\n",
       "    }\n",
       "\n",
       "    .dataframe tbody tr th {\n",
       "        vertical-align: top;\n",
       "    }\n",
       "\n",
       "    .dataframe thead th {\n",
       "        text-align: right;\n",
       "    }\n",
       "</style>\n",
       "<table border=\"1\" class=\"dataframe\">\n",
       "  <thead>\n",
       "    <tr style=\"text-align: right;\">\n",
       "      <th></th>\n",
       "      <th>Tweets</th>\n",
       "    </tr>\n",
       "  </thead>\n",
       "  <tbody>\n",
       "    <tr>\n",
       "      <th>0</th>\n",
       "      <td>THIS IS WHY the rush to open schools and the e...</td>\n",
       "    </tr>\n",
       "    <tr>\n",
       "      <th>1</th>\n",
       "      <td>#Restaurants in these #COVID times should do #...</td>\n",
       "    </tr>\n",
       "    <tr>\n",
       "      <th>2</th>\n",
       "      <td>Radiate #Covid ?  https://t.co/FkjrIHLhwS</td>\n",
       "    </tr>\n",
       "    <tr>\n",
       "      <th>3</th>\n",
       "      <td>Excuse me!!\\n#listen #Covid_19 #covid #school ...</td>\n",
       "    </tr>\n",
       "    <tr>\n",
       "      <th>4</th>\n",
       "      <td>No matter which side of the aisle ur on this @...</td>\n",
       "    </tr>\n",
       "  </tbody>\n",
       "</table>\n",
       "</div>"
      ],
      "text/plain": [
       "                                              Tweets\n",
       "0  THIS IS WHY the rush to open schools and the e...\n",
       "1  #Restaurants in these #COVID times should do #...\n",
       "2          Radiate #Covid ?  https://t.co/FkjrIHLhwS\n",
       "3  Excuse me!!\\n#listen #Covid_19 #covid #school ...\n",
       "4  No matter which side of the aisle ur on this @..."
      ]
     },
     "execution_count": 36,
     "metadata": {},
     "output_type": "execute_result"
    }
   ],
   "source": [
    "df_SentimentAnalysis.head()"
   ]
  },
  {
   "cell_type": "markdown",
   "metadata": {},
   "source": [
    "### Data Preprocessing"
   ]
  },
  {
   "cell_type": "markdown",
   "metadata": {},
   "source": [
    "Create a function to clean the tweets"
   ]
  },
  {
   "cell_type": "code",
   "execution_count": 37,
   "metadata": {},
   "outputs": [
    {
     "data": {
      "text/html": [
       "<div>\n",
       "<style scoped>\n",
       "    .dataframe tbody tr th:only-of-type {\n",
       "        vertical-align: middle;\n",
       "    }\n",
       "\n",
       "    .dataframe tbody tr th {\n",
       "        vertical-align: top;\n",
       "    }\n",
       "\n",
       "    .dataframe thead th {\n",
       "        text-align: right;\n",
       "    }\n",
       "</style>\n",
       "<table border=\"1\" class=\"dataframe\">\n",
       "  <thead>\n",
       "    <tr style=\"text-align: right;\">\n",
       "      <th></th>\n",
       "      <th>Tweets</th>\n",
       "    </tr>\n",
       "  </thead>\n",
       "  <tbody>\n",
       "    <tr>\n",
       "      <th>0</th>\n",
       "      <td>THIS IS WHY the rush to open schools and the e...</td>\n",
       "    </tr>\n",
       "    <tr>\n",
       "      <th>1</th>\n",
       "      <td>Restaurants in these COVID times should do ref...</td>\n",
       "    </tr>\n",
       "    <tr>\n",
       "      <th>2</th>\n",
       "      <td>Radiate Covid ?</td>\n",
       "    </tr>\n",
       "    <tr>\n",
       "      <th>3</th>\n",
       "      <td>Excuse me!!\\nlisten Covid_19 covid school blac...</td>\n",
       "    </tr>\n",
       "    <tr>\n",
       "      <th>4</th>\n",
       "      <td>No matter which side of the aisle ur on this  ...</td>\n",
       "    </tr>\n",
       "    <tr>\n",
       "      <th>...</th>\n",
       "      <td>...</td>\n",
       "    </tr>\n",
       "    <tr>\n",
       "      <th>995</th>\n",
       "      <td>India's economic policies driven for last 6 yr...</td>\n",
       "    </tr>\n",
       "    <tr>\n",
       "      <th>996</th>\n",
       "      <td>21  I can’t even Facebook anymore, I drop in t...</td>\n",
       "    </tr>\n",
       "    <tr>\n",
       "      <th>997</th>\n",
       "      <td>60   I think you mean 4% as oppose to .04% (I’...</td>\n",
       "    </tr>\n",
       "    <tr>\n",
       "      <th>998</th>\n",
       "      <td>SC: dismissed a plea lodged by the Supreme Cou...</td>\n",
       "    </tr>\n",
       "    <tr>\n",
       "      <th>999</th>\n",
       "      <td>Out of 39342 total COVID-19 cases in Telangana...</td>\n",
       "    </tr>\n",
       "  </tbody>\n",
       "</table>\n",
       "<p>1000 rows × 1 columns</p>\n",
       "</div>"
      ],
      "text/plain": [
       "                                                Tweets\n",
       "0    THIS IS WHY the rush to open schools and the e...\n",
       "1    Restaurants in these COVID times should do ref...\n",
       "2                                    Radiate Covid ?  \n",
       "3    Excuse me!!\\nlisten Covid_19 covid school blac...\n",
       "4    No matter which side of the aisle ur on this  ...\n",
       "..                                                 ...\n",
       "995  India's economic policies driven for last 6 yr...\n",
       "996  21  I can’t even Facebook anymore, I drop in t...\n",
       "997  60   I think you mean 4% as oppose to .04% (I’...\n",
       "998  SC: dismissed a plea lodged by the Supreme Cou...\n",
       "999  Out of 39342 total COVID-19 cases in Telangana...\n",
       "\n",
       "[1000 rows x 1 columns]"
      ]
     },
     "execution_count": 37,
     "metadata": {},
     "output_type": "execute_result"
    }
   ],
   "source": [
    "\n",
    "\n",
    "def cleanTxt(text):\n",
    " text = re.sub('@[A-Za-z0–9]+', '', text) #Removing @mentions\n",
    " text = re.sub('#', '', text) # Removing '#' hash tag\n",
    " text = re.sub('RT[\\s]+', '', text) # Removing RT\n",
    " text = re.sub('https?:\\/\\/\\S+', '', text) # Removing hyperlink\n",
    " \n",
    " return text\n",
    "\n",
    "\n",
    "# Clean the tweets\n",
    "df_SentimentAnalysis['Tweets'] = df_SentimentAnalysis['Tweets'].apply(cleanTxt)\n",
    "\n",
    "# Show the cleaned tweets\n",
    "df_SentimentAnalysis"
   ]
  },
  {
   "cell_type": "markdown",
   "metadata": {},
   "source": [
    "### Data Exploration"
   ]
  },
  {
   "cell_type": "markdown",
   "metadata": {},
   "source": [
    "Now lets explore our data based on subjectivity and polarity"
   ]
  },
  {
   "cell_type": "markdown",
   "metadata": {},
   "source": [
    "#### \"Subjectivity\" (how subjective or opinionated the text is — a score of 0 is fact, and a score of +1 is very much an opinion) \n",
    "\n",
    "#### \"Polarity\" (how positive or negative the text is, — score of -1 is the highest negative score, and a score of +1 is the highest positive score).\n"
   ]
  },
  {
   "cell_type": "markdown",
   "metadata": {},
   "source": [
    "Create a function to get the subjectivity and polarity abd further create two new columns to analysze our dataframe"
   ]
  },
  {
   "cell_type": "code",
   "execution_count": 38,
   "metadata": {},
   "outputs": [
    {
     "data": {
      "text/html": [
       "<div>\n",
       "<style scoped>\n",
       "    .dataframe tbody tr th:only-of-type {\n",
       "        vertical-align: middle;\n",
       "    }\n",
       "\n",
       "    .dataframe tbody tr th {\n",
       "        vertical-align: top;\n",
       "    }\n",
       "\n",
       "    .dataframe thead th {\n",
       "        text-align: right;\n",
       "    }\n",
       "</style>\n",
       "<table border=\"1\" class=\"dataframe\">\n",
       "  <thead>\n",
       "    <tr style=\"text-align: right;\">\n",
       "      <th></th>\n",
       "      <th>Tweets</th>\n",
       "      <th>Subjectivity</th>\n",
       "      <th>Polarity</th>\n",
       "    </tr>\n",
       "  </thead>\n",
       "  <tbody>\n",
       "    <tr>\n",
       "      <th>0</th>\n",
       "      <td>THIS IS WHY the rush to open schools and the e...</td>\n",
       "      <td>0.500000</td>\n",
       "      <td>0.000000</td>\n",
       "    </tr>\n",
       "    <tr>\n",
       "      <th>1</th>\n",
       "      <td>Restaurants in these COVID times should do ref...</td>\n",
       "      <td>0.100000</td>\n",
       "      <td>0.000000</td>\n",
       "    </tr>\n",
       "    <tr>\n",
       "      <th>2</th>\n",
       "      <td>Radiate Covid ?</td>\n",
       "      <td>0.000000</td>\n",
       "      <td>0.000000</td>\n",
       "    </tr>\n",
       "    <tr>\n",
       "      <th>3</th>\n",
       "      <td>Excuse me!!\\nlisten Covid_19 covid school blac...</td>\n",
       "      <td>0.525000</td>\n",
       "      <td>-0.289062</td>\n",
       "    </tr>\n",
       "    <tr>\n",
       "      <th>4</th>\n",
       "      <td>No matter which side of the aisle ur on this  ...</td>\n",
       "      <td>0.000000</td>\n",
       "      <td>0.000000</td>\n",
       "    </tr>\n",
       "    <tr>\n",
       "      <th>...</th>\n",
       "      <td>...</td>\n",
       "      <td>...</td>\n",
       "      <td>...</td>\n",
       "    </tr>\n",
       "    <tr>\n",
       "      <th>995</th>\n",
       "      <td>India's economic policies driven for last 6 yr...</td>\n",
       "      <td>0.133333</td>\n",
       "      <td>0.100000</td>\n",
       "    </tr>\n",
       "    <tr>\n",
       "      <th>996</th>\n",
       "      <td>21  I can’t even Facebook anymore, I drop in t...</td>\n",
       "      <td>0.375000</td>\n",
       "      <td>-0.125000</td>\n",
       "    </tr>\n",
       "    <tr>\n",
       "      <th>997</th>\n",
       "      <td>60   I think you mean 4% as oppose to .04% (I’...</td>\n",
       "      <td>0.406250</td>\n",
       "      <td>-0.156250</td>\n",
       "    </tr>\n",
       "    <tr>\n",
       "      <th>998</th>\n",
       "      <td>SC: dismissed a plea lodged by the Supreme Cou...</td>\n",
       "      <td>0.000000</td>\n",
       "      <td>0.000000</td>\n",
       "    </tr>\n",
       "    <tr>\n",
       "      <th>999</th>\n",
       "      <td>Out of 39342 total COVID-19 cases in Telangana...</td>\n",
       "      <td>0.750000</td>\n",
       "      <td>0.000000</td>\n",
       "    </tr>\n",
       "  </tbody>\n",
       "</table>\n",
       "<p>1000 rows × 3 columns</p>\n",
       "</div>"
      ],
      "text/plain": [
       "                                                Tweets  Subjectivity  Polarity\n",
       "0    THIS IS WHY the rush to open schools and the e...      0.500000  0.000000\n",
       "1    Restaurants in these COVID times should do ref...      0.100000  0.000000\n",
       "2                                    Radiate Covid ?        0.000000  0.000000\n",
       "3    Excuse me!!\\nlisten Covid_19 covid school blac...      0.525000 -0.289062\n",
       "4    No matter which side of the aisle ur on this  ...      0.000000  0.000000\n",
       "..                                                 ...           ...       ...\n",
       "995  India's economic policies driven for last 6 yr...      0.133333  0.100000\n",
       "996  21  I can’t even Facebook anymore, I drop in t...      0.375000 -0.125000\n",
       "997  60   I think you mean 4% as oppose to .04% (I’...      0.406250 -0.156250\n",
       "998  SC: dismissed a plea lodged by the Supreme Cou...      0.000000  0.000000\n",
       "999  Out of 39342 total COVID-19 cases in Telangana...      0.750000  0.000000\n",
       "\n",
       "[1000 rows x 3 columns]"
      ]
     },
     "execution_count": 38,
     "metadata": {},
     "output_type": "execute_result"
    }
   ],
   "source": [
    "# Create a function to get the subjectivity\n",
    "def getSubjectivity(text):\n",
    "   return TextBlob(text).sentiment.subjectivity\n",
    "\n",
    "# Create a function to get the polarity\n",
    "def getPolarity(text):\n",
    "   return  TextBlob(text).sentiment.polarity\n",
    "\n",
    "\n",
    "# Create two new columns 'Subjectivity' & 'Polarity'\n",
    "df_SentimentAnalysis['Subjectivity'] = df_SentimentAnalysis['Tweets'].apply(getSubjectivity)\n",
    "df_SentimentAnalysis['Polarity'] = df_SentimentAnalysis['Tweets'].apply(getPolarity)\n",
    "\n",
    "# Show the new dataframe with columns 'Subjectivity' & 'Polarity'\n",
    "df_SentimentAnalysis"
   ]
  },
  {
   "cell_type": "markdown",
   "metadata": {},
   "source": [
    "#### Let’s see how well the sentiments are distributed. \n",
    "#### A good way to accomplish this task is by understanding the common words by plotting word clouds."
   ]
  },
  {
   "cell_type": "code",
   "execution_count": 39,
   "metadata": {},
   "outputs": [
    {
     "data": {
      "image/png": "[encoded data removed]",
      "text/plain": [
       "<Figure size 432x288 with 1 Axes>"
      ]
     },
     "metadata": {
      "needs_background": "light"
     },
     "output_type": "display_data"
    }
   ],
   "source": [
    "# word cloud visualization\n",
    "allWords = ' '.join([twts for twts in df_SentimentAnalysis['Tweets']])\n",
    "wordCloud = WordCloud(width=500, height=300, random_state=21, max_font_size=110).generate(allWords)\n",
    "\n",
    "\n",
    "plt.imshow(wordCloud, interpolation=\"bilinear\")\n",
    "plt.axis('off')\n",
    "plt.show()"
   ]
  },
  {
   "cell_type": "markdown",
   "metadata": {},
   "source": [
    "#### \"Covid\" and \"Mask\" are the most used words related to covid tweets.This result will vary each time we run the code"
   ]
  },
  {
   "cell_type": "code",
   "execution_count": 40,
   "metadata": {},
   "outputs": [
    {
     "data": {
      "text/html": [
       "<div>\n",
       "<style scoped>\n",
       "    .dataframe tbody tr th:only-of-type {\n",
       "        vertical-align: middle;\n",
       "    }\n",
       "\n",
       "    .dataframe tbody tr th {\n",
       "        vertical-align: top;\n",
       "    }\n",
       "\n",
       "    .dataframe thead th {\n",
       "        text-align: right;\n",
       "    }\n",
       "</style>\n",
       "<table border=\"1\" class=\"dataframe\">\n",
       "  <thead>\n",
       "    <tr style=\"text-align: right;\">\n",
       "      <th></th>\n",
       "      <th>Tweets</th>\n",
       "      <th>Subjectivity</th>\n",
       "      <th>Polarity</th>\n",
       "      <th>Analysis</th>\n",
       "    </tr>\n",
       "  </thead>\n",
       "  <tbody>\n",
       "    <tr>\n",
       "      <th>0</th>\n",
       "      <td>THIS IS WHY the rush to open schools and the e...</td>\n",
       "      <td>0.500000</td>\n",
       "      <td>0.000000</td>\n",
       "      <td>Neutral</td>\n",
       "    </tr>\n",
       "    <tr>\n",
       "      <th>1</th>\n",
       "      <td>Restaurants in these COVID times should do ref...</td>\n",
       "      <td>0.100000</td>\n",
       "      <td>0.000000</td>\n",
       "      <td>Neutral</td>\n",
       "    </tr>\n",
       "    <tr>\n",
       "      <th>2</th>\n",
       "      <td>Radiate Covid ?</td>\n",
       "      <td>0.000000</td>\n",
       "      <td>0.000000</td>\n",
       "      <td>Neutral</td>\n",
       "    </tr>\n",
       "    <tr>\n",
       "      <th>3</th>\n",
       "      <td>Excuse me!!\\nlisten Covid_19 covid school blac...</td>\n",
       "      <td>0.525000</td>\n",
       "      <td>-0.289062</td>\n",
       "      <td>Negative</td>\n",
       "    </tr>\n",
       "    <tr>\n",
       "      <th>4</th>\n",
       "      <td>No matter which side of the aisle ur on this  ...</td>\n",
       "      <td>0.000000</td>\n",
       "      <td>0.000000</td>\n",
       "      <td>Neutral</td>\n",
       "    </tr>\n",
       "    <tr>\n",
       "      <th>...</th>\n",
       "      <td>...</td>\n",
       "      <td>...</td>\n",
       "      <td>...</td>\n",
       "      <td>...</td>\n",
       "    </tr>\n",
       "    <tr>\n",
       "      <th>995</th>\n",
       "      <td>India's economic policies driven for last 6 yr...</td>\n",
       "      <td>0.133333</td>\n",
       "      <td>0.100000</td>\n",
       "      <td>Positive</td>\n",
       "    </tr>\n",
       "    <tr>\n",
       "      <th>996</th>\n",
       "      <td>21  I can’t even Facebook anymore, I drop in t...</td>\n",
       "      <td>0.375000</td>\n",
       "      <td>-0.125000</td>\n",
       "      <td>Negative</td>\n",
       "    </tr>\n",
       "    <tr>\n",
       "      <th>997</th>\n",
       "      <td>60   I think you mean 4% as oppose to .04% (I’...</td>\n",
       "      <td>0.406250</td>\n",
       "      <td>-0.156250</td>\n",
       "      <td>Negative</td>\n",
       "    </tr>\n",
       "    <tr>\n",
       "      <th>998</th>\n",
       "      <td>SC: dismissed a plea lodged by the Supreme Cou...</td>\n",
       "      <td>0.000000</td>\n",
       "      <td>0.000000</td>\n",
       "      <td>Neutral</td>\n",
       "    </tr>\n",
       "    <tr>\n",
       "      <th>999</th>\n",
       "      <td>Out of 39342 total COVID-19 cases in Telangana...</td>\n",
       "      <td>0.750000</td>\n",
       "      <td>0.000000</td>\n",
       "      <td>Neutral</td>\n",
       "    </tr>\n",
       "  </tbody>\n",
       "</table>\n",
       "<p>1000 rows × 4 columns</p>\n",
       "</div>"
      ],
      "text/plain": [
       "                                                Tweets  Subjectivity  \\\n",
       "0    THIS IS WHY the rush to open schools and the e...      0.500000   \n",
       "1    Restaurants in these COVID times should do ref...      0.100000   \n",
       "2                                    Radiate Covid ?        0.000000   \n",
       "3    Excuse me!!\\nlisten Covid_19 covid school blac...      0.525000   \n",
       "4    No matter which side of the aisle ur on this  ...      0.000000   \n",
       "..                                                 ...           ...   \n",
       "995  India's economic policies driven for last 6 yr...      0.133333   \n",
       "996  21  I can’t even Facebook anymore, I drop in t...      0.375000   \n",
       "997  60   I think you mean 4% as oppose to .04% (I’...      0.406250   \n",
       "998  SC: dismissed a plea lodged by the Supreme Cou...      0.000000   \n",
       "999  Out of 39342 total COVID-19 cases in Telangana...      0.750000   \n",
       "\n",
       "     Polarity  Analysis  \n",
       "0    0.000000   Neutral  \n",
       "1    0.000000   Neutral  \n",
       "2    0.000000   Neutral  \n",
       "3   -0.289062  Negative  \n",
       "4    0.000000   Neutral  \n",
       "..        ...       ...  \n",
       "995  0.100000  Positive  \n",
       "996 -0.125000  Negative  \n",
       "997 -0.156250  Negative  \n",
       "998  0.000000   Neutral  \n",
       "999  0.000000   Neutral  \n",
       "\n",
       "[1000 rows x 4 columns]"
      ]
     },
     "execution_count": 40,
     "metadata": {},
     "output_type": "execute_result"
    }
   ],
   "source": [
    "# Create a function to compute negative (-1), neutral (0) and positive (+1) analysis\n",
    "def getAnalysis(score):\n",
    "    \n",
    "    if score < 0:\n",
    "        return 'Negative'\n",
    "    elif score == 0:\n",
    "        return 'Neutral'\n",
    "    else:\n",
    "        return 'Positive'\n",
    "    \n",
    "    \n",
    "df_SentimentAnalysis['Analysis'] = df_SentimentAnalysis['Polarity'].apply(getAnalysis)\n",
    "# Show the dataframe\n",
    "    \n",
    "df_SentimentAnalysis\n",
    "    \n",
    "    "
   ]
  },
  {
   "cell_type": "markdown",
   "metadata": {},
   "source": [
    "Now let's analyze sentiments features of the dataframe"
   ]
  },
  {
   "cell_type": "markdown",
   "metadata": {},
   "source": [
    "Display positive tweets "
   ]
  },
  {
   "cell_type": "code",
   "execution_count": 41,
   "metadata": {},
   "outputs": [
    {
     "name": "stdout",
     "output_type": "stream",
     "text": [
      "Displaying positive tweets:\n",
      "\n",
      "1) Satisfied customer! ★★★★★ \"Exactly as described and pictured. Shipped quickly. Already used it and it's been great!… \n",
      "\n",
      "2) The award for the coolest small town in America this week goes to Tenino, Washington, pop 1,800, with their own uni… \n",
      "\n",
      "3) Intelligent Americans already knew that numerous deaths attributed to Covid-19 were incorrect.  If a person died &amp;… \n",
      "\n",
      "4)  1  It works on malaria and lupus, but not so much against the Covid.\n",
      "\n",
      "Here's… \n",
      "\n"
     ]
    }
   ],
   "source": [
    "\n",
    "print('Displaying positive tweets:\\n')\n",
    "j=1\n",
    "sortedDF = df_SentimentAnalysis.sort_values(by=['Polarity']) #Sort the tweets\n",
    "for i in range(0, sortedDF.shape[0] ):\n",
    "  if( sortedDF['Analysis'][i] == 'Positive'):\n",
    "    print(str(j) + ') '+ sortedDF['Tweets'][i])\n",
    "    print()\n",
    "    j= j+1\n",
    "    if(j==5):\n",
    "        break"
   ]
  },
  {
   "cell_type": "markdown",
   "metadata": {},
   "source": [
    "Display negative tweets  "
   ]
  },
  {
   "cell_type": "code",
   "execution_count": 42,
   "metadata": {},
   "outputs": [
    {
     "name": "stdout",
     "output_type": "stream",
     "text": [
      "Displaying negative tweets:\n",
      "\n",
      "1) Excuse me!!\n",
      "listen Covid_19 covid school blackpeople news wtf wth \n",
      "\n",
      "2)  Why don’t Democrats &amp; Republicans come together &amp; agree on postponing all elections for 1 year due to… \n",
      "\n",
      "3) I spent the year looking forward to returning to Broadkill Beach, DE with my oldest friends to eat leftover meatbal… \n",
      "\n",
      "4) _Kumar   ExamsInCovidASuicide\n",
      "If policemen of our society is not safe from… \n",
      "\n"
     ]
    }
   ],
   "source": [
    "\n",
    "print('Displaying negative tweets:\\n')\n",
    "j=1\n",
    "sortedDF = df_SentimentAnalysis.sort_values(by=['Polarity'],ascending=False) #Sort the tweets\n",
    "for i in range(0, sortedDF.shape[0] ):\n",
    "  if( sortedDF['Analysis'][i] == 'Negative'):\n",
    "    print(str(j) + ') '+sortedDF['Tweets'][i])\n",
    "    print()\n",
    "    j=j+1\n",
    "    if(j==5):\n",
    "        break"
   ]
  },
  {
   "cell_type": "markdown",
   "metadata": {},
   "source": [
    "### Plot the polarity and subjectivity as a scatter plot. "
   ]
  },
  {
   "cell_type": "code",
   "execution_count": 43,
   "metadata": {},
   "outputs": [
    {
     "data": {
      "image/png": "[encoded data removed]",
      "text/plain": [
       "<Figure size 576x432 with 1 Axes>"
      ]
     },
     "metadata": {
      "needs_background": "light"
     },
     "output_type": "display_data"
    }
   ],
   "source": [
    "# Plotting \n",
    "plt.figure(figsize=(8,6)) \n",
    "for i in range(0, df_SentimentAnalysis.shape[0]):\n",
    "  plt.scatter(df_SentimentAnalysis[\"Polarity\"][i], df_SentimentAnalysis[\"Subjectivity\"][i], color='Blue') \n",
    "# plt.scatter(x,y,color)   \n",
    "plt.title('Sentiment Analysis') \n",
    "plt.xlabel('Polarity') \n",
    "plt.ylabel('Subjectivity') \n",
    "plt.show()"
   ]
  },
  {
   "cell_type": "markdown",
   "metadata": {},
   "source": [
    "It looks like the majority of the tweets are positive, as many of the points are on the right side of the polarity at value 0.00."
   ]
  },
  {
   "cell_type": "markdown",
   "metadata": {},
   "source": [
    "### Sentiment Scores"
   ]
  },
  {
   "cell_type": "markdown",
   "metadata": {},
   "source": [
    "Display the percentage of positive tweets"
   ]
  },
  {
   "cell_type": "code",
   "execution_count": 44,
   "metadata": {},
   "outputs": [
    {
     "data": {
      "text/plain": [
       "38.1"
      ]
     },
     "execution_count": 44,
     "metadata": {},
     "output_type": "execute_result"
    }
   ],
   "source": [
    "\n",
    "ptweets = df_SentimentAnalysis[df_SentimentAnalysis.Analysis == 'Positive']\n",
    "ptweets = ptweets['Tweets']\n",
    "ptweets\n",
    "\n",
    "round( (ptweets.shape[0] / df.shape[0]) * 100 , 1)"
   ]
  },
  {
   "cell_type": "markdown",
   "metadata": {},
   "source": [
    "Display the percentage of negative tweets"
   ]
  },
  {
   "cell_type": "code",
   "execution_count": 45,
   "metadata": {},
   "outputs": [
    {
     "data": {
      "text/plain": [
       "20.1"
      ]
     },
     "execution_count": 45,
     "metadata": {},
     "output_type": "execute_result"
    }
   ],
   "source": [
    "\n",
    "ntweets = df_SentimentAnalysis[df_SentimentAnalysis.Analysis == 'Negative']\n",
    "ntweets = ntweets['Tweets']\n",
    "ntweets\n",
    "\n",
    "round( (ntweets.shape[0] / df.shape[0]) * 100, 1)"
   ]
  },
  {
   "cell_type": "markdown",
   "metadata": {},
   "source": [
    "Plotting and visualizing the counts of "
   ]
  },
  {
   "cell_type": "code",
   "execution_count": 46,
   "metadata": {},
   "outputs": [
    {
     "data": {
      "image/png": "[encoded data removed]",
      "text/plain": [
       "<Figure size 432x288 with 1 Axes>"
      ]
     },
     "metadata": {
      "needs_background": "light"
     },
     "output_type": "display_data"
    }
   ],
   "source": [
    "\n",
    "plt.title('Sentiment Analysis')\n",
    "plt.xlabel('Sentiment')\n",
    "plt.ylabel('Counts')\n",
    "df_SentimentAnalysis['Analysis'].value_counts().plot(kind = 'bar' , color=['cyan', 'green', 'red'])\n",
    "plt.show()"
   ]
  },
  {
   "cell_type": "markdown",
   "metadata": {},
   "source": [
    "As we analyze from the above bar graph, Neutral tweets and positive tweets are more compared to negative tweets."
   ]
  }
 ],
 "metadata": {
  "kernelspec": {
   "display_name": "Python 3",
   "language": "python",
   "name": "python3"
  },
  "language_info": {
   "codemirror_mode": {
    "name": "ipython",
    "version": 3
   },
   "file_extension": ".py",
   "mimetype": "text/x-python",
   "name": "python",
   "nbconvert_exporter": "python",
   "pygments_lexer": "ipython3",
   "version": "3.7.6"
  }
 },
 "nbformat": 4,
 "nbformat_minor": 4
}
