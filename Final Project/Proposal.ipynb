{
 "cells": [
  {
   "cell_type": "markdown",
   "metadata": {},
   "source": [
    "## Data620 - FINAL PROJECT PROPOSAL\n",
    "\n",
    "**Group Memeber : Vijaya Cherukuri, Abdellah Ait Elmouden, Priya Shaji, Habib Khan**\n",
    "\n",
    "### Introduction\n",
    "\n",
    "Social  networks  are  the  main  resources  to  gather information   about   people’s   opinion   and   sentiments   towards different  topics  as  they  spend  hours  daily  on social  mediasand share   their   opinion. In   this   project   we   show   the application of sentimental analysis and how to connect to Twitter and  run  sentimental  analysis  queries, based on News Topics during COVID-19.\n",
    "\n",
    "### Motivation\n",
    "\n",
    "Six months since the first COVID-19 case in the United States, and 113+ days into the earliest Lockdown Order of New York City, now the city reopen the time some other states see coronavirus cases rise. how have people been feeling through this special time? Do we know how others are responding to the pandemic? The Corona Virus endangers our physical health indeed, but alongside, social distancing also poses a threat to our emotional stability. Thus, it is crucial to understand public sentiments under COVID-19. To analyze these we'll use Sentiment Analysis on tweets to aid the understanding of sentiment trends.\n",
    "\n",
    "As of now Covid_19 is one of the top trending topics. Presently it stands in 7th position in the twitter hot topics.\n",
    "\n",
    "![alt text](TwitterTrend.png)",
    "\n",
    "### Data Source\n",
    "\n",
    "We will be using the Twitter API, as our tool to collect dtat for this analysis. Twitter is a gold mine of data. Unlike other social platforms, almost every user’s tweets are completely public and pullable. This is a huge plus if you’re trying to get a large amount of data to run analytics on.\n",
    "\n",
    "![alt text](twitter.png)"
   ]
  },
  {
   "cell_type": "markdown",
   "metadata": {},
   "source": [
    "### Project Goals\n",
    "\n",
    "Covid_19 changed the life style of the people. Many business are shutdown, unemplyment rate increased, people are fiding difficulty to live their free life. Many policies are enforced by govenment for the safety of people.\n",
    "Since it a vast subject we will try to explore as much as we can. Below are some questions we are trying to consider for this project. As we dig deeper in to project we will try to answer more questions and come up with new ideas.\n",
    "\n",
    "#### Network Analysis:\n",
    "    1) Findout who are following Covid_19 in our friends list ?\n",
    "    2) In friends circle are there any tweets related to Covid_19 ?\n",
    "\n",
    "#### Word Cloud :\n",
    "    1) What are the most frequent words that are used during this Covid_19 pandemic situations ?\n",
    "    2) Are there any particular user tweets that are trending or more discussed ?\n",
    "\n",
    "#### Sentiment Analysis :\n",
    "    Using sentiment analysis, we will attempt to see percentage of positive tweets and negative tweets."
   ]
  },
  {
   "cell_type": "markdown",
   "metadata": {},
   "source": [
    "### Work Plan\n",
    "\n",
    "##### Proposal: Vijaya, Priya, Abdellah, Habib\n",
    "##### Data Aquisition: Vijaya\n",
    "##### Data Preparation: Vijaya, Priya\n",
    "##### Data Exploration: Priya, Abdellah\n",
    "##### Network Analysis: Habib/Abdellah\n",
    "##### Sentiment Analysis: Priya/Vijaya\n",
    "##### Conclusion: Vijaya/Priya/Abdellah/Habib\n",
    "##### Formatting and Review: Abdellah/Vijaya\n",
    "##### Final Presentation Video: Priya/Vijaya\n",
    "##### Final Presentation: Habib/Abdellah/Priya/Vijaya"
   ]
  },
  {
   "cell_type": "markdown",
   "metadata": {},
   "source": [
    "### Concerns and Limitations :\n",
    "\n",
    "    1) Connect to Twitter API and get the tweets data.\n",
    "    \n",
    "    2) Twitter Dev account has some limitations as it can get olny specific number of Get posts. Maximum number of tweets it can get is 1000. There are other limitations like Rate_limit which we encountered which try to get twitter data multiple times. Here is the article for it : https://developer.twitter.com/en/docs/basics/rate-limits.\n",
    "    \n",
    "    3) Collaboration on timely manner. For each section atleast 2 members in the team should cover to explore and give new ideas."
   ]
  },
  {
   "cell_type": "markdown",
   "metadata": {},
   "source": [
    "### References :\n",
    "\n",
    "For twitter data : https://developer.twitter.com/en/apply-for-access\n",
    "\n",
    "https://www.earthdatascience.org/courses/use-data-open-source-python/intro-to-apis/twitter-data-in-python/"
   ]
  },
  {
   "cell_type": "markdown",
   "metadata": {},
   "source": []
  }
 ],
 "metadata": {
  "kernelspec": {
   "display_name": "Python 3",
   "language": "python",
   "name": "python3"
  },
  "language_info": {
   "codemirror_mode": {
    "name": "ipython",
    "version": 3
   },
   "file_extension": ".py",
   "mimetype": "text/x-python",
   "name": "python",
   "nbconvert_exporter": "python",
   "pygments_lexer": "ipython3",
   "version": "3.7.4"
  }
 },
 "nbformat": 4,
 "nbformat_minor": 2
}
