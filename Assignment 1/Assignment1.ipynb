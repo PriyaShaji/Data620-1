{
 "cells": [
  {
   "cell_type": "markdown",
   "metadata": {},
   "source": [
    "## Assignment Week 1 Hello Graph World"
   ]
  },
  {
   "cell_type": "markdown",
   "metadata": {},
   "source": [
    "When software developers are starting to work in a new environment, they are encouraged to start with a simple “beachhead” program. In this assignment, you’re asked to create the nodes and edges for a basic graph, such as the Krackhardt kite shown below. (You’re welcome to substitute data of your own choosing)."
   ]
  },
  {
   "cell_type": "markdown",
   "metadata": {},
   "source": [
    "#### By : Vijaya Cherukuri, Habib Khan, Priya Shaji, Abdellah Ait Elmouden"
   ]
  },
  {
   "cell_type": "code",
   "execution_count": 1,
   "metadata": {},
   "outputs": [],
   "source": [
    "#import required libraries\n",
    "import networkx as nx\n",
    "import matplotlib.pyplot as plt"
   ]
  },
  {
   "cell_type": "code",
   "execution_count": 2,
   "metadata": {},
   "outputs": [],
   "source": [
    "#create empty graph\n",
    "G = nx.Graph()"
   ]
  },
  {
   "cell_type": "code",
   "execution_count": 3,
   "metadata": {},
   "outputs": [],
   "source": [
    "#Create nodes\n",
    "nodes = [\"Andre\",\"Beverly\",\"Carol\",\"Diane\",\"Ed\",\"Fernando\",\"Garth\",\"Heather\",\"Ike\",\"Jane\"]\n",
    "G.add_nodes_from(nodes)"
   ]
  },
  {
   "cell_type": "code",
   "execution_count": 4,
   "metadata": {},
   "outputs": [],
   "source": [
    "#Create edges\n",
    "edges = [('Andre','Carol'),('Andre','Carol'),('Andre','Diane'),\n",
    "         ('Andre','Fernando'),('Beverly','Andre'),('Beverly','Fernando'),\n",
    "         ('Beverly','Diane'),('Beverly','Ed'),('Beverly','Garth'),('Carol','Andre'),\n",
    "         ('Carol','Diane'),('Carol','Fernando'),('Fernando','Garth'),\n",
    "         ('Fernando','Diane'),('Fernando','Carol'),('Garth','Ed'),\n",
    "         ('Garth','Diane'),('Garth','Fernando'),('Garth','Heather'),\n",
    "         ('Ed','Beverly'),('Ed','Diane'),('Ed','Garth'),('Heather','Fernando'),\n",
    "         ('Heather','Garth'),('Heather','Ike'),('Ike','Heather'),\n",
    "         ('Ike','Jane'),('Jane','Ike')]\n",
    "G.add_edges_from(edges)"
   ]
  },
  {
   "cell_type": "code",
   "execution_count": 5,
   "metadata": {},
   "outputs": [],
   "source": [
    "#coordinates for nodes\n",
    "pos={'Andre':(0,1),\n",
    "     'Beverly':(0,-1),\n",
    "     'Carol':(1,2),\n",
    "     'Diane':(1,0),\n",
    "     'Ed':(1,-2),\n",
    "     'Fernando':(2,1),\n",
    "     'Garth':(2,-1),\n",
    "     'Heather':(3,0),\n",
    "     'Ike':(4,0),\n",
    "     'Jane':(5,0)}"
   ]
  },
  {
   "cell_type": "code",
   "execution_count": 8,
   "metadata": {},
   "outputs": [
    {
     "data": {
      "image/png": "[encoded data removed]",
      "text/plain": [
       "<Figure size 432x288 with 1 Axes>"
      ]
     },
     "metadata": {},
     "output_type": "display_data"
    }
   ],
   "source": [
    "#draw and show the graph\n",
    "\n",
    "nx.draw_networkx_nodes(G,pos,node_size=600, node_color='silver')\n",
    "nx.draw_networkx_edges(G,pos,alpha=0.5,edge_color='m')\n",
    "nx.draw_networkx_labels(G,pos,font_size=10,font_weight=\"bold\")\n",
    "\n",
    "#fix margins\n",
    "plt.tight_layout()\n",
    "\n",
    "#turn off axis\n",
    "plt.axis('off')\n",
    "\n",
    "#display the graph\n",
    "plt.show()"
   ]
  },
  {
   "cell_type": "code",
   "execution_count": null,
   "metadata": {},
   "outputs": [],
   "source": []
  }
 ],
 "metadata": {
  "kernelspec": {
   "display_name": "Python 3",
   "language": "python",
   "name": "python3"
  },
  "language_info": {
   "codemirror_mode": {
    "name": "ipython",
    "version": 3
   },
   "file_extension": ".py",
   "mimetype": "text/x-python",
   "name": "python",
   "nbconvert_exporter": "python",
   "pygments_lexer": "ipython3",
   "version": "3.7.4"
  }
 },
 "nbformat": 4,
 "nbformat_minor": 2
}
